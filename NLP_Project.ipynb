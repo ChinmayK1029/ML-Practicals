{
  "nbformat": 4,
  "nbformat_minor": 0,
  "metadata": {
    "colab": {
      "provenance": [],
      "authorship_tag": "ABX9TyMgm7aVebzWbnCTnGick3pw",
      "include_colab_link": true
    },
    "kernelspec": {
      "name": "python3",
      "display_name": "Python 3"
    },
    "language_info": {
      "name": "python"
    }
  },
  "cells": [
    {
      "cell_type": "markdown",
      "metadata": {
        "id": "view-in-github",
        "colab_type": "text"
      },
      "source": [
        "<a href=\"https://colab.research.google.com/github/ChinmayK1029/ML-Practicals/blob/main/NLP_Project.ipynb\" target=\"_parent\"><img src=\"https://colab.research.google.com/assets/colab-badge.svg\" alt=\"Open In Colab\"/></a>"
      ]
    },
    {
      "cell_type": "code",
      "source": [
        "text =\"\"\"\n",
        "Christmas is both a sacred religious holiday and a worldwide cultural and commercial phenomenon. For two millennia, people around the world have been observing it with traditions and practices that are both religious and secular in nature. Christians celebrate Christmas Day as the anniversary of the birth of Jesus of Nazareth, a spiritual leader whose teachings form the basis of their religion. Popular customs include exchanging gifts, decorating Christmas trees, attending church, sharing meals with family and friends and, of course, waiting for Santa Claus to arrive. December 25–Christmas Day–has been a federal holiday in the United States since 1870.\n",
        "An Ancient Holiday\n",
        "\n",
        "The middle of winter has long been a time of celebration around the world. Centuries before the arrival of the man called Jesus, early Europeans celebrated light and birth in the darkest days of winter. Many peoples rejoiced during the winter solstice, when the worst of the winter was behind them and they could look forward to longer days and extended hours of sunlight.\n",
        "\n",
        "In Scandinavia, the Norse celebrated Yule from December 21, the winter solstice, through January. In recognition of the return of the sun, fathers and sons would bring home large logs, which they would set on fire. The people would feast until the log burned out, which could take as many as 12 days. The Norse believed that each spark from the fire represented a new pig or calf that would be born during the coming year.\n",
        "ADVERTISEMENT\n",
        "\n",
        "The end of December was a perfect time for celebration in most areas of Europe. At that time of year, most cattle were slaughtered so they would not have to be fed during the winter. For many, it was the only time of year when they had a supply of fresh meat. In addition, most wine and beer made during the year was finally fermented and ready for drinking.\n",
        "\n",
        "In Germany, people honored the pagan god Oden during the mid-winter holiday. Germans were terrified of Oden, as they believed he made nocturnal flights through the sky to observe his people, and then decide who would prosper or perish. Because of his presence, many people chose to stay inside.\n",
        "Saturnalia\n",
        "\n",
        "In Rome, where winters were not as harsh as those in the far north, Saturnalia—a holiday in honor of Saturn, the god of agriculture—was celebrated. Beginning in the week leading up to the winter solstice and continuing for a full month, Saturnalia was a hedonistic time, when food and drink were plentiful and the normal Roman social order was turned upside down. For a month, slaves would become masters. Peasants were in command of the city. Business and schools were closed so that everyone could join in the fun.\n",
        "\n",
        "Also around the time of the winter solstice, Romans observed Juvenalia, a feast honoring the children of Rome. In addition, members of the upper classes often celebrated the birthday of Mithra, the god of the unconquerable sun, on December 25. It was believed that Mithra, an infant god, was born of a rock. For some Romans, Mithra’s birthday was the most sacred day of the year.\n",
        "\n",
        "In the early years of Christianity, Easter was the main holiday; the birth of Jesus was not celebrated. In the fourth century, church officials decided to institute the birth of Jesus as a holiday. Unfortunately, the Bible does not mention date for his birth (a fact Puritans later pointed out in order to deny the legitimacy of the celebration). Although some evidence suggests that his birth may have occurred in the spring (why would shepherds be herding in the middle of winter?), Pope Julius I chose December 25. It is commonly believed that the church chose this date in an effort to adopt and absorb the traditions of the pagan Saturnalia festival. First called the Feast of the Nativity, the custom spread to Egypt by 432 and to England by the end of the sixth century. By the end of the eighth century, the celebration of Christmas had spread all the way to Scandinavia. Today, in the Greek and Russian orthodox churches, Christmas is celebrated 13 days after the 25th, which is also referred to as the Epiphany or Three Kings Day. This is the day it is believed that the three wise men finally found Jesus in the manger.\n",
        "\n",
        "By holding Christmas at the same time as traditional winter solstice festivals, church leaders increased the chances that Christmas would be popularly embraced, but gave up the ability to dictate how it was celebrated. By the Middle Ages, Christianity had, for the most part, replaced pagan religion. On Christmas, believers attended church, then celebrated raucously in a drunken, carnival-like atmosphere similar to today’s Mardi Gras. Each year, a beggar or student would be crowned the “lord of misrule” and eager celebrants played the part of his subjects. The poor would go to the houses of the rich and demand their best food and drink. If owners failed to comply, their visitors would most likely terrorize them with mischief. Christmas became the time of year when the upper classes could repay their real or imagined “debt” to society by entertaining less fortunate citizens.\n",
        "An Outlaw Christmas\n",
        "\n",
        "In the early 17th century, a wave of religious reform changed the way Christmas was celebrated in Europe. When Oliver Cromwell and his Puritan forces took over England in 1645, they vowed to rid England of decadence and, as part of their effort, cancelled Christmas. By popular demand, Charles II was restored to the throne and, with him, came the return of the popular holiday.\n",
        "\n",
        "The pilgrims, English separatists that came to America in 1620, were even more orthodox in their Puritan beliefs than Cromwell. As a result, Christmas was not a holiday in early America. From 1659 to 1681, the celebration of Christmas was actually outlawed in Boston. Anyone exhibiting the Christmas spirit was fined five shillings. By contrast, in the Jamestown settlement, Captain John Smith reported that Christmas was enjoyed by all and passed without incident.\n",
        "\n",
        "After the American Revolution, English customs fell out of favor, including Christmas. In fact, Christmas wasn’t declared a federal holiday until June 26, 1870.\n",
        "Irving Reinvents Christmas\n",
        "\n",
        "It wasn’t until the 19th century that Americans began to embrace Christmas. Americans re-invented Christmas, and changed it from a raucous carnival holiday into a family-centered day of peace and nostalgia. But what about the 1800s peaked American interest in the holiday?\n",
        "\n",
        "The early 19th century was a period of class conflict and turmoil. During this time, unemployment was high and gang rioting by the disenchanted classes often occurred during the Christmas season. In 1828, the New York city council instituted the city’s first police force in response to a Christmas riot. This catalyzed certain members of the upper classes to begin to change the way Christmas was celebrated in America.\n",
        "\n",
        "In 1819, best-selling author Washington Irving wrote The Sketchbook of Geoffrey Crayon, gent., a series of stories about the celebration of Christmas in an English manor house. The sketches feature a squire who invited the peasants into his home for the holiday. In contrast to the problems faced in American society, the two groups mingled effortlessly. In Irving’s mind, Christmas should be a peaceful, warm-hearted holiday bringing groups together across lines of wealth or social status. Irving’s fictitious celebrants enjoyed “ancient customs,” including the crowning of a Lord of Misrule. Irving’s book, however, was not based on any holiday celebration he had attended – in fact, many historians say that Irving’s account actually “invented” tradition by implying that it described the true customs of the season.\n",
        "A Christmas Carol\n",
        "\n",
        "Also around this time, English author Charles Dickens created the classic holiday tale, A Christmas Carol. The story’s message-the importance of charity and good will towards all humankind-struck a powerful chord in the United States and England and showed members of Victorian society the benefits of celebrating the holiday.\n",
        "\n",
        "The family was also becoming less disciplined and more sensitive to the emotional needs of children during the early 1800s. Christmas provided families with a day when they could lavish attention-and gifts-on their children without appearing to “spoil” them.\n",
        "\n",
        "As Americans began to embrace Christmas as a perfect family holiday, old customs were unearthed. People looked toward recent immigrants and Catholic and Episcopalian churches to see how the day should be celebrated. In the next 100 years, Americans built a Christmas tradition all their own that included pieces of many other customs, including decorating trees, sending holiday cards and gift-giving.\n",
        "\n",
        "Although most families quickly bought into the idea that they were celebrating Christmas how it had been done for centuries, Americans had really re-invented a holiday to fill the cultural needs of a growing nation.\n",
        "Christmas Facts\n",
        "\n",
        "    Each year, 30-35 million real Christmas trees are sold in the United States alone. There are 21,000 Christmas tree growers in the United States, and trees usually grow for about 15 years before they are sold.\n",
        "\n",
        "    Today, in the Greek and Russian orthodox churches, Christmas is celebrated 13 days after the 25th, which is also referred to as the Epiphany or Three Kings Day. This is the day it is believed that the three wise men finally found Jesus in the manger.\n",
        "\n",
        "    In the Middle Ages, Christmas celebrations were rowdy and raucous—a lot like today’s Mardi Gras parties.\n",
        "\n",
        "    From 1659 to 1681, the celebration of Christmas was outlawed in Boston, and law-breakers were fined five shillings.\n",
        "\n",
        "    Christmas was declared a federal holiday in the United States on June 26, 1870.\n",
        "\n",
        "    The first eggnog made in the United States was consumed in Captain John Smith’s 1607 Jamestown settlement.\n",
        "\n",
        "    Poinsettia plants are named after Joel R. Poinsett, an American minister to Mexico, who brought the red-and-green plant from Mexico to America in 1828.\n",
        "\n",
        "    The Salvation Army has been sending Santa Claus-clad donation collectors into the streets since the 1890s.\n",
        "\n",
        "    Rudolph, “the most famous reindeer of all,” was the product of Robert L. May’s imagination in 1939. The copywriter wrote a poem about the reindeer to help lure customers into the Montgomery Ward department store.Construction workers started the Rockefeller Center Christmas tree tradition in 1931.\n",
        "    \"\"\""
      ],
      "metadata": {
        "id": "RGQStLewYxuS"
      },
      "execution_count": 18,
      "outputs": []
    },
    {
      "cell_type": "code",
      "source": [
        "!pip install -U spacy\n",
        "!python -m spacy download en_core_web_sm\n"
      ],
      "metadata": {
        "colab": {
          "base_uri": "https://localhost:8080/"
        },
        "id": "HBYqiVgGZMve",
        "outputId": "5680006e-ec86-4883-9e40-3d310ddbd46f"
      },
      "execution_count": 7,
      "outputs": [
        {
          "output_type": "stream",
          "name": "stdout",
          "text": [
            "Looking in indexes: https://pypi.org/simple, https://us-python.pkg.dev/colab-wheels/public/simple/\n",
            "Requirement already satisfied: spacy in /usr/local/lib/python3.7/dist-packages (3.4.1)\n",
            "Requirement already satisfied: setuptools in /usr/local/lib/python3.7/dist-packages (from spacy) (57.4.0)\n",
            "Requirement already satisfied: pydantic!=1.8,!=1.8.1,<1.10.0,>=1.7.4 in /usr/local/lib/python3.7/dist-packages (from spacy) (1.9.2)\n",
            "Requirement already satisfied: tqdm<5.0.0,>=4.38.0 in /usr/local/lib/python3.7/dist-packages (from spacy) (4.64.1)\n",
            "Requirement already satisfied: spacy-legacy<3.1.0,>=3.0.9 in /usr/local/lib/python3.7/dist-packages (from spacy) (3.0.10)\n",
            "Requirement already satisfied: srsly<3.0.0,>=2.4.3 in /usr/local/lib/python3.7/dist-packages (from spacy) (2.4.4)\n",
            "Requirement already satisfied: cymem<2.1.0,>=2.0.2 in /usr/local/lib/python3.7/dist-packages (from spacy) (2.0.6)\n",
            "Requirement already satisfied: typer<0.5.0,>=0.3.0 in /usr/local/lib/python3.7/dist-packages (from spacy) (0.4.2)\n",
            "Requirement already satisfied: preshed<3.1.0,>=3.0.2 in /usr/local/lib/python3.7/dist-packages (from spacy) (3.0.7)\n",
            "Requirement already satisfied: numpy>=1.15.0 in /usr/local/lib/python3.7/dist-packages (from spacy) (1.21.6)\n",
            "Requirement already satisfied: jinja2 in /usr/local/lib/python3.7/dist-packages (from spacy) (2.11.3)\n",
            "Requirement already satisfied: thinc<8.2.0,>=8.1.0 in /usr/local/lib/python3.7/dist-packages (from spacy) (8.1.2)\n",
            "Requirement already satisfied: murmurhash<1.1.0,>=0.28.0 in /usr/local/lib/python3.7/dist-packages (from spacy) (1.0.8)\n",
            "Requirement already satisfied: catalogue<2.1.0,>=2.0.6 in /usr/local/lib/python3.7/dist-packages (from spacy) (2.0.8)\n",
            "Requirement already satisfied: wasabi<1.1.0,>=0.9.1 in /usr/local/lib/python3.7/dist-packages (from spacy) (0.10.1)\n",
            "Requirement already satisfied: requests<3.0.0,>=2.13.0 in /usr/local/lib/python3.7/dist-packages (from spacy) (2.23.0)\n",
            "Requirement already satisfied: packaging>=20.0 in /usr/local/lib/python3.7/dist-packages (from spacy) (21.3)\n",
            "Requirement already satisfied: langcodes<4.0.0,>=3.2.0 in /usr/local/lib/python3.7/dist-packages (from spacy) (3.3.0)\n",
            "Requirement already satisfied: pathy>=0.3.5 in /usr/local/lib/python3.7/dist-packages (from spacy) (0.6.2)\n",
            "Requirement already satisfied: spacy-loggers<2.0.0,>=1.0.0 in /usr/local/lib/python3.7/dist-packages (from spacy) (1.0.3)\n",
            "Requirement already satisfied: typing-extensions<4.2.0,>=3.7.4 in /usr/local/lib/python3.7/dist-packages (from spacy) (4.1.1)\n",
            "Requirement already satisfied: zipp>=0.5 in /usr/local/lib/python3.7/dist-packages (from catalogue<2.1.0,>=2.0.6->spacy) (3.8.1)\n",
            "Requirement already satisfied: pyparsing!=3.0.5,>=2.0.2 in /usr/local/lib/python3.7/dist-packages (from packaging>=20.0->spacy) (3.0.9)\n",
            "Requirement already satisfied: smart-open<6.0.0,>=5.2.1 in /usr/local/lib/python3.7/dist-packages (from pathy>=0.3.5->spacy) (5.2.1)\n",
            "Requirement already satisfied: chardet<4,>=3.0.2 in /usr/local/lib/python3.7/dist-packages (from requests<3.0.0,>=2.13.0->spacy) (3.0.4)\n",
            "Requirement already satisfied: idna<3,>=2.5 in /usr/local/lib/python3.7/dist-packages (from requests<3.0.0,>=2.13.0->spacy) (2.10)\n",
            "Requirement already satisfied: certifi>=2017.4.17 in /usr/local/lib/python3.7/dist-packages (from requests<3.0.0,>=2.13.0->spacy) (2022.9.24)\n",
            "Requirement already satisfied: urllib3!=1.25.0,!=1.25.1,<1.26,>=1.21.1 in /usr/local/lib/python3.7/dist-packages (from requests<3.0.0,>=2.13.0->spacy) (1.24.3)\n",
            "Requirement already satisfied: confection<1.0.0,>=0.0.1 in /usr/local/lib/python3.7/dist-packages (from thinc<8.2.0,>=8.1.0->spacy) (0.0.2)\n",
            "Requirement already satisfied: blis<0.8.0,>=0.7.8 in /usr/local/lib/python3.7/dist-packages (from thinc<8.2.0,>=8.1.0->spacy) (0.7.8)\n",
            "Requirement already satisfied: click<9.0.0,>=7.1.1 in /usr/local/lib/python3.7/dist-packages (from typer<0.5.0,>=0.3.0->spacy) (7.1.2)\n",
            "Requirement already satisfied: MarkupSafe>=0.23 in /usr/local/lib/python3.7/dist-packages (from jinja2->spacy) (2.0.1)\n",
            "2022-10-11 14:15:04.837843: E tensorflow/stream_executor/cuda/cuda_driver.cc:271] failed call to cuInit: CUDA_ERROR_NO_DEVICE: no CUDA-capable device is detected\n",
            "Looking in indexes: https://pypi.org/simple, https://us-python.pkg.dev/colab-wheels/public/simple/\n",
            "Collecting en-core-web-sm==3.4.0\n",
            "  Downloading https://github.com/explosion/spacy-models/releases/download/en_core_web_sm-3.4.0/en_core_web_sm-3.4.0-py3-none-any.whl (12.8 MB)\n",
            "\u001b[K     |████████████████████████████████| 12.8 MB 5.2 MB/s \n",
            "\u001b[?25hRequirement already satisfied: spacy<3.5.0,>=3.4.0 in /usr/local/lib/python3.7/dist-packages (from en-core-web-sm==3.4.0) (3.4.1)\n",
            "Requirement already satisfied: jinja2 in /usr/local/lib/python3.7/dist-packages (from spacy<3.5.0,>=3.4.0->en-core-web-sm==3.4.0) (2.11.3)\n",
            "Requirement already satisfied: langcodes<4.0.0,>=3.2.0 in /usr/local/lib/python3.7/dist-packages (from spacy<3.5.0,>=3.4.0->en-core-web-sm==3.4.0) (3.3.0)\n",
            "Requirement already satisfied: cymem<2.1.0,>=2.0.2 in /usr/local/lib/python3.7/dist-packages (from spacy<3.5.0,>=3.4.0->en-core-web-sm==3.4.0) (2.0.6)\n",
            "Requirement already satisfied: pydantic!=1.8,!=1.8.1,<1.10.0,>=1.7.4 in /usr/local/lib/python3.7/dist-packages (from spacy<3.5.0,>=3.4.0->en-core-web-sm==3.4.0) (1.9.2)\n",
            "Requirement already satisfied: murmurhash<1.1.0,>=0.28.0 in /usr/local/lib/python3.7/dist-packages (from spacy<3.5.0,>=3.4.0->en-core-web-sm==3.4.0) (1.0.8)\n",
            "Requirement already satisfied: pathy>=0.3.5 in /usr/local/lib/python3.7/dist-packages (from spacy<3.5.0,>=3.4.0->en-core-web-sm==3.4.0) (0.6.2)\n",
            "Requirement already satisfied: thinc<8.2.0,>=8.1.0 in /usr/local/lib/python3.7/dist-packages (from spacy<3.5.0,>=3.4.0->en-core-web-sm==3.4.0) (8.1.2)\n",
            "Requirement already satisfied: requests<3.0.0,>=2.13.0 in /usr/local/lib/python3.7/dist-packages (from spacy<3.5.0,>=3.4.0->en-core-web-sm==3.4.0) (2.23.0)\n",
            "Requirement already satisfied: packaging>=20.0 in /usr/local/lib/python3.7/dist-packages (from spacy<3.5.0,>=3.4.0->en-core-web-sm==3.4.0) (21.3)\n",
            "Requirement already satisfied: preshed<3.1.0,>=3.0.2 in /usr/local/lib/python3.7/dist-packages (from spacy<3.5.0,>=3.4.0->en-core-web-sm==3.4.0) (3.0.7)\n",
            "Requirement already satisfied: catalogue<2.1.0,>=2.0.6 in /usr/local/lib/python3.7/dist-packages (from spacy<3.5.0,>=3.4.0->en-core-web-sm==3.4.0) (2.0.8)\n",
            "Requirement already satisfied: wasabi<1.1.0,>=0.9.1 in /usr/local/lib/python3.7/dist-packages (from spacy<3.5.0,>=3.4.0->en-core-web-sm==3.4.0) (0.10.1)\n",
            "Requirement already satisfied: spacy-loggers<2.0.0,>=1.0.0 in /usr/local/lib/python3.7/dist-packages (from spacy<3.5.0,>=3.4.0->en-core-web-sm==3.4.0) (1.0.3)\n",
            "Requirement already satisfied: tqdm<5.0.0,>=4.38.0 in /usr/local/lib/python3.7/dist-packages (from spacy<3.5.0,>=3.4.0->en-core-web-sm==3.4.0) (4.64.1)\n",
            "Requirement already satisfied: numpy>=1.15.0 in /usr/local/lib/python3.7/dist-packages (from spacy<3.5.0,>=3.4.0->en-core-web-sm==3.4.0) (1.21.6)\n",
            "Requirement already satisfied: srsly<3.0.0,>=2.4.3 in /usr/local/lib/python3.7/dist-packages (from spacy<3.5.0,>=3.4.0->en-core-web-sm==3.4.0) (2.4.4)\n",
            "Requirement already satisfied: typing-extensions<4.2.0,>=3.7.4 in /usr/local/lib/python3.7/dist-packages (from spacy<3.5.0,>=3.4.0->en-core-web-sm==3.4.0) (4.1.1)\n",
            "Requirement already satisfied: setuptools in /usr/local/lib/python3.7/dist-packages (from spacy<3.5.0,>=3.4.0->en-core-web-sm==3.4.0) (57.4.0)\n",
            "Requirement already satisfied: spacy-legacy<3.1.0,>=3.0.9 in /usr/local/lib/python3.7/dist-packages (from spacy<3.5.0,>=3.4.0->en-core-web-sm==3.4.0) (3.0.10)\n",
            "Requirement already satisfied: typer<0.5.0,>=0.3.0 in /usr/local/lib/python3.7/dist-packages (from spacy<3.5.0,>=3.4.0->en-core-web-sm==3.4.0) (0.4.2)\n",
            "Requirement already satisfied: zipp>=0.5 in /usr/local/lib/python3.7/dist-packages (from catalogue<2.1.0,>=2.0.6->spacy<3.5.0,>=3.4.0->en-core-web-sm==3.4.0) (3.8.1)\n",
            "Requirement already satisfied: pyparsing!=3.0.5,>=2.0.2 in /usr/local/lib/python3.7/dist-packages (from packaging>=20.0->spacy<3.5.0,>=3.4.0->en-core-web-sm==3.4.0) (3.0.9)\n",
            "Requirement already satisfied: smart-open<6.0.0,>=5.2.1 in /usr/local/lib/python3.7/dist-packages (from pathy>=0.3.5->spacy<3.5.0,>=3.4.0->en-core-web-sm==3.4.0) (5.2.1)\n",
            "Requirement already satisfied: urllib3!=1.25.0,!=1.25.1,<1.26,>=1.21.1 in /usr/local/lib/python3.7/dist-packages (from requests<3.0.0,>=2.13.0->spacy<3.5.0,>=3.4.0->en-core-web-sm==3.4.0) (1.24.3)\n",
            "Requirement already satisfied: certifi>=2017.4.17 in /usr/local/lib/python3.7/dist-packages (from requests<3.0.0,>=2.13.0->spacy<3.5.0,>=3.4.0->en-core-web-sm==3.4.0) (2022.9.24)\n",
            "Requirement already satisfied: chardet<4,>=3.0.2 in /usr/local/lib/python3.7/dist-packages (from requests<3.0.0,>=2.13.0->spacy<3.5.0,>=3.4.0->en-core-web-sm==3.4.0) (3.0.4)\n",
            "Requirement already satisfied: idna<3,>=2.5 in /usr/local/lib/python3.7/dist-packages (from requests<3.0.0,>=2.13.0->spacy<3.5.0,>=3.4.0->en-core-web-sm==3.4.0) (2.10)\n",
            "Requirement already satisfied: blis<0.8.0,>=0.7.8 in /usr/local/lib/python3.7/dist-packages (from thinc<8.2.0,>=8.1.0->spacy<3.5.0,>=3.4.0->en-core-web-sm==3.4.0) (0.7.8)\n",
            "Requirement already satisfied: confection<1.0.0,>=0.0.1 in /usr/local/lib/python3.7/dist-packages (from thinc<8.2.0,>=8.1.0->spacy<3.5.0,>=3.4.0->en-core-web-sm==3.4.0) (0.0.2)\n",
            "Requirement already satisfied: click<9.0.0,>=7.1.1 in /usr/local/lib/python3.7/dist-packages (from typer<0.5.0,>=0.3.0->spacy<3.5.0,>=3.4.0->en-core-web-sm==3.4.0) (7.1.2)\n",
            "Requirement already satisfied: MarkupSafe>=0.23 in /usr/local/lib/python3.7/dist-packages (from jinja2->spacy<3.5.0,>=3.4.0->en-core-web-sm==3.4.0) (2.0.1)\n",
            "\u001b[38;5;2m✔ Download and installation successful\u001b[0m\n",
            "You can now load the package via spacy.load('en_core_web_sm')\n"
          ]
        }
      ]
    },
    {
      "cell_type": "code",
      "source": [
        "import spacy\n",
        "from spacy.lang.en.stop_words import STOP_WORDS\n",
        "from string import punctuation\n",
        "import nltk\n",
        "\n"
      ],
      "metadata": {
        "id": "eDNeN3mVZtZM"
      },
      "execution_count": 17,
      "outputs": []
    },
    {
      "cell_type": "code",
      "source": [
        "stopwords = list(STOP_WORDS)\n"
      ],
      "metadata": {
        "id": "h1ruNy3OZ4hr"
      },
      "execution_count": 9,
      "outputs": []
    },
    {
      "cell_type": "code",
      "source": [
        "nlp = spacy.load('en_core_web_sm')\n"
      ],
      "metadata": {
        "id": "G-XxiFypZ6mp"
      },
      "execution_count": 24,
      "outputs": []
    },
    {
      "cell_type": "code",
      "source": [
        "doc= nlp(text)\n"
      ],
      "metadata": {
        "id": "KKtuoukmaJMJ"
      },
      "execution_count": 25,
      "outputs": []
    },
    {
      "cell_type": "code",
      "source": [
        "tokens = [token.text for token in doc]\n",
        "print(tokens)\n",
        "\n"
      ],
      "metadata": {
        "colab": {
          "base_uri": "https://localhost:8080/"
        },
        "id": "vGgfYssgavVw",
        "outputId": "4731c60d-3215-4dd9-a02c-f62a9cf8e70b"
      },
      "execution_count": 26,
      "outputs": [
        {
          "output_type": "stream",
          "name": "stdout",
          "text": [
            "['\\n', 'Christmas', 'is', 'both', 'a', 'sacred', 'religious', 'holiday', 'and', 'a', 'worldwide', 'cultural', 'and', 'commercial', 'phenomenon', '.', 'For', 'two', 'millennia', ',', 'people', 'around', 'the', 'world', 'have', 'been', 'observing', 'it', 'with', 'traditions', 'and', 'practices', 'that', 'are', 'both', 'religious', 'and', 'secular', 'in', 'nature', '.', 'Christians', 'celebrate', 'Christmas', 'Day', 'as', 'the', 'anniversary', 'of', 'the', 'birth', 'of', 'Jesus', 'of', 'Nazareth', ',', 'a', 'spiritual', 'leader', 'whose', 'teachings', 'form', 'the', 'basis', 'of', 'their', 'religion', '.', 'Popular', 'customs', 'include', 'exchanging', 'gifts', ',', 'decorating', 'Christmas', 'trees', ',', 'attending', 'church', ',', 'sharing', 'meals', 'with', 'family', 'and', 'friends', 'and', ',', 'of', 'course', ',', 'waiting', 'for', 'Santa', 'Claus', 'to', 'arrive', '.', 'December', '25', '–', 'Christmas', 'Day', '–', 'has', 'been', 'a', 'federal', 'holiday', 'in', 'the', 'United', 'States', 'since', '1870', '.', '\\n', 'An', 'Ancient', 'Holiday', '\\n\\n', 'The', 'middle', 'of', 'winter', 'has', 'long', 'been', 'a', 'time', 'of', 'celebration', 'around', 'the', 'world', '.', 'Centuries', 'before', 'the', 'arrival', 'of', 'the', 'man', 'called', 'Jesus', ',', 'early', 'Europeans', 'celebrated', 'light', 'and', 'birth', 'in', 'the', 'darkest', 'days', 'of', 'winter', '.', 'Many', 'peoples', 'rejoiced', 'during', 'the', 'winter', 'solstice', ',', 'when', 'the', 'worst', 'of', 'the', 'winter', 'was', 'behind', 'them', 'and', 'they', 'could', 'look', 'forward', 'to', 'longer', 'days', 'and', 'extended', 'hours', 'of', 'sunlight', '.', '\\n\\n', 'In', 'Scandinavia', ',', 'the', 'Norse', 'celebrated', 'Yule', 'from', 'December', '21', ',', 'the', 'winter', 'solstice', ',', 'through', 'January', '.', 'In', 'recognition', 'of', 'the', 'return', 'of', 'the', 'sun', ',', 'fathers', 'and', 'sons', 'would', 'bring', 'home', 'large', 'logs', ',', 'which', 'they', 'would', 'set', 'on', 'fire', '.', 'The', 'people', 'would', 'feast', 'until', 'the', 'log', 'burned', 'out', ',', 'which', 'could', 'take', 'as', 'many', 'as', '12', 'days', '.', 'The', 'Norse', 'believed', 'that', 'each', 'spark', 'from', 'the', 'fire', 'represented', 'a', 'new', 'pig', 'or', 'calf', 'that', 'would', 'be', 'born', 'during', 'the', 'coming', 'year', '.', '\\n', 'ADVERTISEMENT', '\\n\\n', 'The', 'end', 'of', 'December', 'was', 'a', 'perfect', 'time', 'for', 'celebration', 'in', 'most', 'areas', 'of', 'Europe', '.', 'At', 'that', 'time', 'of', 'year', ',', 'most', 'cattle', 'were', 'slaughtered', 'so', 'they', 'would', 'not', 'have', 'to', 'be', 'fed', 'during', 'the', 'winter', '.', 'For', 'many', ',', 'it', 'was', 'the', 'only', 'time', 'of', 'year', 'when', 'they', 'had', 'a', 'supply', 'of', 'fresh', 'meat', '.', 'In', 'addition', ',', 'most', 'wine', 'and', 'beer', 'made', 'during', 'the', 'year', 'was', 'finally', 'fermented', 'and', 'ready', 'for', 'drinking', '.', '\\n\\n', 'In', 'Germany', ',', 'people', 'honored', 'the', 'pagan', 'god', 'Oden', 'during', 'the', 'mid', '-', 'winter', 'holiday', '.', 'Germans', 'were', 'terrified', 'of', 'Oden', ',', 'as', 'they', 'believed', 'he', 'made', 'nocturnal', 'flights', 'through', 'the', 'sky', 'to', 'observe', 'his', 'people', ',', 'and', 'then', 'decide', 'who', 'would', 'prosper', 'or', 'perish', '.', 'Because', 'of', 'his', 'presence', ',', 'many', 'people', 'chose', 'to', 'stay', 'inside', '.', '\\n', 'Saturnalia', '\\n\\n', 'In', 'Rome', ',', 'where', 'winters', 'were', 'not', 'as', 'harsh', 'as', 'those', 'in', 'the', 'far', 'north', ',', 'Saturnalia', '—', 'a', 'holiday', 'in', 'honor', 'of', 'Saturn', ',', 'the', 'god', 'of', 'agriculture', '—', 'was', 'celebrated', '.', 'Beginning', 'in', 'the', 'week', 'leading', 'up', 'to', 'the', 'winter', 'solstice', 'and', 'continuing', 'for', 'a', 'full', 'month', ',', 'Saturnalia', 'was', 'a', 'hedonistic', 'time', ',', 'when', 'food', 'and', 'drink', 'were', 'plentiful', 'and', 'the', 'normal', 'Roman', 'social', 'order', 'was', 'turned', 'upside', 'down', '.', 'For', 'a', 'month', ',', 'slaves', 'would', 'become', 'masters', '.', 'Peasants', 'were', 'in', 'command', 'of', 'the', 'city', '.', 'Business', 'and', 'schools', 'were', 'closed', 'so', 'that', 'everyone', 'could', 'join', 'in', 'the', 'fun', '.', '\\n\\n', 'Also', 'around', 'the', 'time', 'of', 'the', 'winter', 'solstice', ',', 'Romans', 'observed', 'Juvenalia', ',', 'a', 'feast', 'honoring', 'the', 'children', 'of', 'Rome', '.', 'In', 'addition', ',', 'members', 'of', 'the', 'upper', 'classes', 'often', 'celebrated', 'the', 'birthday', 'of', 'Mithra', ',', 'the', 'god', 'of', 'the', 'unconquerable', 'sun', ',', 'on', 'December', '25', '.', 'It', 'was', 'believed', 'that', 'Mithra', ',', 'an', 'infant', 'god', ',', 'was', 'born', 'of', 'a', 'rock', '.', 'For', 'some', 'Romans', ',', 'Mithra', '’s', 'birthday', 'was', 'the', 'most', 'sacred', 'day', 'of', 'the', 'year', '.', '\\n\\n', 'In', 'the', 'early', 'years', 'of', 'Christianity', ',', 'Easter', 'was', 'the', 'main', 'holiday', ';', 'the', 'birth', 'of', 'Jesus', 'was', 'not', 'celebrated', '.', 'In', 'the', 'fourth', 'century', ',', 'church', 'officials', 'decided', 'to', 'institute', 'the', 'birth', 'of', 'Jesus', 'as', 'a', 'holiday', '.', 'Unfortunately', ',', 'the', 'Bible', 'does', 'not', 'mention', 'date', 'for', 'his', 'birth', '(', 'a', 'fact', 'Puritans', 'later', 'pointed', 'out', 'in', 'order', 'to', 'deny', 'the', 'legitimacy', 'of', 'the', 'celebration', ')', '.', 'Although', 'some', 'evidence', 'suggests', 'that', 'his', 'birth', 'may', 'have', 'occurred', 'in', 'the', 'spring', '(', 'why', 'would', 'shepherds', 'be', 'herding', 'in', 'the', 'middle', 'of', 'winter', '?', ')', ',', 'Pope', 'Julius', 'I', 'chose', 'December', '25', '.', 'It', 'is', 'commonly', 'believed', 'that', 'the', 'church', 'chose', 'this', 'date', 'in', 'an', 'effort', 'to', 'adopt', 'and', 'absorb', 'the', 'traditions', 'of', 'the', 'pagan', 'Saturnalia', 'festival', '.', 'First', 'called', 'the', 'Feast', 'of', 'the', 'Nativity', ',', 'the', 'custom', 'spread', 'to', 'Egypt', 'by', '432', 'and', 'to', 'England', 'by', 'the', 'end', 'of', 'the', 'sixth', 'century', '.', 'By', 'the', 'end', 'of', 'the', 'eighth', 'century', ',', 'the', 'celebration', 'of', 'Christmas', 'had', 'spread', 'all', 'the', 'way', 'to', 'Scandinavia', '.', 'Today', ',', 'in', 'the', 'Greek', 'and', 'Russian', 'orthodox', 'churches', ',', 'Christmas', 'is', 'celebrated', '13', 'days', 'after', 'the', '25th', ',', 'which', 'is', 'also', 'referred', 'to', 'as', 'the', 'Epiphany', 'or', 'Three', 'Kings', 'Day', '.', 'This', 'is', 'the', 'day', 'it', 'is', 'believed', 'that', 'the', 'three', 'wise', 'men', 'finally', 'found', 'Jesus', 'in', 'the', 'manger', '.', '\\n\\n', 'By', 'holding', 'Christmas', 'at', 'the', 'same', 'time', 'as', 'traditional', 'winter', 'solstice', 'festivals', ',', 'church', 'leaders', 'increased', 'the', 'chances', 'that', 'Christmas', 'would', 'be', 'popularly', 'embraced', ',', 'but', 'gave', 'up', 'the', 'ability', 'to', 'dictate', 'how', 'it', 'was', 'celebrated', '.', 'By', 'the', 'Middle', 'Ages', ',', 'Christianity', 'had', ',', 'for', 'the', 'most', 'part', ',', 'replaced', 'pagan', 'religion', '.', 'On', 'Christmas', ',', 'believers', 'attended', 'church', ',', 'then', 'celebrated', 'raucously', 'in', 'a', 'drunken', ',', 'carnival', '-', 'like', 'atmosphere', 'similar', 'to', 'today', '’s', 'Mardi', 'Gras', '.', 'Each', 'year', ',', 'a', 'beggar', 'or', 'student', 'would', 'be', 'crowned', 'the', '“', 'lord', 'of', 'misrule', '”', 'and', 'eager', 'celebrants', 'played', 'the', 'part', 'of', 'his', 'subjects', '.', 'The', 'poor', 'would', 'go', 'to', 'the', 'houses', 'of', 'the', 'rich', 'and', 'demand', 'their', 'best', 'food', 'and', 'drink', '.', 'If', 'owners', 'failed', 'to', 'comply', ',', 'their', 'visitors', 'would', 'most', 'likely', 'terrorize', 'them', 'with', 'mischief', '.', 'Christmas', 'became', 'the', 'time', 'of', 'year', 'when', 'the', 'upper', 'classes', 'could', 'repay', 'their', 'real', 'or', 'imagined', '“', 'debt', '”', 'to', 'society', 'by', 'entertaining', 'less', 'fortunate', 'citizens', '.', '\\n', 'An', 'Outlaw', 'Christmas', '\\n\\n', 'In', 'the', 'early', '17th', 'century', ',', 'a', 'wave', 'of', 'religious', 'reform', 'changed', 'the', 'way', 'Christmas', 'was', 'celebrated', 'in', 'Europe', '.', 'When', 'Oliver', 'Cromwell', 'and', 'his', 'Puritan', 'forces', 'took', 'over', 'England', 'in', '1645', ',', 'they', 'vowed', 'to', 'rid', 'England', 'of', 'decadence', 'and', ',', 'as', 'part', 'of', 'their', 'effort', ',', 'cancelled', 'Christmas', '.', 'By', 'popular', 'demand', ',', 'Charles', 'II', 'was', 'restored', 'to', 'the', 'throne', 'and', ',', 'with', 'him', ',', 'came', 'the', 'return', 'of', 'the', 'popular', 'holiday', '.', '\\n\\n', 'The', 'pilgrims', ',', 'English', 'separatists', 'that', 'came', 'to', 'America', 'in', '1620', ',', 'were', 'even', 'more', 'orthodox', 'in', 'their', 'Puritan', 'beliefs', 'than', 'Cromwell', '.', 'As', 'a', 'result', ',', 'Christmas', 'was', 'not', 'a', 'holiday', 'in', 'early', 'America', '.', 'From', '1659', 'to', '1681', ',', 'the', 'celebration', 'of', 'Christmas', 'was', 'actually', 'outlawed', 'in', 'Boston', '.', 'Anyone', 'exhibiting', 'the', 'Christmas', 'spirit', 'was', 'fined', 'five', 'shillings', '.', 'By', 'contrast', ',', 'in', 'the', 'Jamestown', 'settlement', ',', 'Captain', 'John', 'Smith', 'reported', 'that', 'Christmas', 'was', 'enjoyed', 'by', 'all', 'and', 'passed', 'without', 'incident', '.', '\\n\\n', 'After', 'the', 'American', 'Revolution', ',', 'English', 'customs', 'fell', 'out', 'of', 'favor', ',', 'including', 'Christmas', '.', 'In', 'fact', ',', 'Christmas', 'was', 'n’t', 'declared', 'a', 'federal', 'holiday', 'until', 'June', '26', ',', '1870', '.', '\\n', 'Irving', 'Reinvents', 'Christmas', '\\n\\n', 'It', 'was', 'n’t', 'until', 'the', '19th', 'century', 'that', 'Americans', 'began', 'to', 'embrace', 'Christmas', '.', 'Americans', 're', '-', 'invented', 'Christmas', ',', 'and', 'changed', 'it', 'from', 'a', 'raucous', 'carnival', 'holiday', 'into', 'a', 'family', '-', 'centered', 'day', 'of', 'peace', 'and', 'nostalgia', '.', 'But', 'what', 'about', 'the', '1800s', 'peaked', 'American', 'interest', 'in', 'the', 'holiday', '?', '\\n\\n', 'The', 'early', '19th', 'century', 'was', 'a', 'period', 'of', 'class', 'conflict', 'and', 'turmoil', '.', 'During', 'this', 'time', ',', 'unemployment', 'was', 'high', 'and', 'gang', 'rioting', 'by', 'the', 'disenchanted', 'classes', 'often', 'occurred', 'during', 'the', 'Christmas', 'season', '.', 'In', '1828', ',', 'the', 'New', 'York', 'city', 'council', 'instituted', 'the', 'city', '’s', 'first', 'police', 'force', 'in', 'response', 'to', 'a', 'Christmas', 'riot', '.', 'This', 'catalyzed', 'certain', 'members', 'of', 'the', 'upper', 'classes', 'to', 'begin', 'to', 'change', 'the', 'way', 'Christmas', 'was', 'celebrated', 'in', 'America', '.', '\\n\\n', 'In', '1819', ',', 'best', '-', 'selling', 'author', 'Washington', 'Irving', 'wrote', 'The', 'Sketchbook', 'of', 'Geoffrey', 'Crayon', ',', 'gent', '.', ',', 'a', 'series', 'of', 'stories', 'about', 'the', 'celebration', 'of', 'Christmas', 'in', 'an', 'English', 'manor', 'house', '.', 'The', 'sketches', 'feature', 'a', 'squire', 'who', 'invited', 'the', 'peasants', 'into', 'his', 'home', 'for', 'the', 'holiday', '.', 'In', 'contrast', 'to', 'the', 'problems', 'faced', 'in', 'American', 'society', ',', 'the', 'two', 'groups', 'mingled', 'effortlessly', '.', 'In', 'Irving', '’s', 'mind', ',', 'Christmas', 'should', 'be', 'a', 'peaceful', ',', 'warm', '-', 'hearted', 'holiday', 'bringing', 'groups', 'together', 'across', 'lines', 'of', 'wealth', 'or', 'social', 'status', '.', 'Irving', '’s', 'fictitious', 'celebrants', 'enjoyed', '“', 'ancient', 'customs', ',', '”', 'including', 'the', 'crowning', 'of', 'a', 'Lord', 'of', 'Misrule', '.', 'Irving', '’s', 'book', ',', 'however', ',', 'was', 'not', 'based', 'on', 'any', 'holiday', 'celebration', 'he', 'had', 'attended', '–', 'in', 'fact', ',', 'many', 'historians', 'say', 'that', 'Irving', '’s', 'account', 'actually', '“', 'invented', '”', 'tradition', 'by', 'implying', 'that', 'it', 'described', 'the', 'true', 'customs', 'of', 'the', 'season', '.', '\\n', 'A', 'Christmas', 'Carol', '\\n\\n', 'Also', 'around', 'this', 'time', ',', 'English', 'author', 'Charles', 'Dickens', 'created', 'the', 'classic', 'holiday', 'tale', ',', 'A', 'Christmas', 'Carol', '.', 'The', 'story', '’s', 'message', '-', 'the', 'importance', 'of', 'charity', 'and', 'good', 'will', 'towards', 'all', 'humankind', '-', 'struck', 'a', 'powerful', 'chord', 'in', 'the', 'United', 'States', 'and', 'England', 'and', 'showed', 'members', 'of', 'Victorian', 'society', 'the', 'benefits', 'of', 'celebrating', 'the', 'holiday', '.', '\\n\\n', 'The', 'family', 'was', 'also', 'becoming', 'less', 'disciplined', 'and', 'more', 'sensitive', 'to', 'the', 'emotional', 'needs', 'of', 'children', 'during', 'the', 'early', '1800s', '.', 'Christmas', 'provided', 'families', 'with', 'a', 'day', 'when', 'they', 'could', 'lavish', 'attention', '-', 'and', 'gifts', '-', 'on', 'their', 'children', 'without', 'appearing', 'to', '“', 'spoil', '”', 'them', '.', '\\n\\n', 'As', 'Americans', 'began', 'to', 'embrace', 'Christmas', 'as', 'a', 'perfect', 'family', 'holiday', ',', 'old', 'customs', 'were', 'unearthed', '.', 'People', 'looked', 'toward', 'recent', 'immigrants', 'and', 'Catholic', 'and', 'Episcopalian', 'churches', 'to', 'see', 'how', 'the', 'day', 'should', 'be', 'celebrated', '.', 'In', 'the', 'next', '100', 'years', ',', 'Americans', 'built', 'a', 'Christmas', 'tradition', 'all', 'their', 'own', 'that', 'included', 'pieces', 'of', 'many', 'other', 'customs', ',', 'including', 'decorating', 'trees', ',', 'sending', 'holiday', 'cards', 'and', 'gift', '-', 'giving', '.', '\\n\\n', 'Although', 'most', 'families', 'quickly', 'bought', 'into', 'the', 'idea', 'that', 'they', 'were', 'celebrating', 'Christmas', 'how', 'it', 'had', 'been', 'done', 'for', 'centuries', ',', 'Americans', 'had', 'really', 're', '-', 'invented', 'a', 'holiday', 'to', 'fill', 'the', 'cultural', 'needs', 'of', 'a', 'growing', 'nation', '.', '\\n', 'Christmas', 'Facts', '\\n\\n    ', 'Each', 'year', ',', '30', '-', '35', 'million', 'real', 'Christmas', 'trees', 'are', 'sold', 'in', 'the', 'United', 'States', 'alone', '.', 'There', 'are', '21,000', 'Christmas', 'tree', 'growers', 'in', 'the', 'United', 'States', ',', 'and', 'trees', 'usually', 'grow', 'for', 'about', '15', 'years', 'before', 'they', 'are', 'sold', '.', '\\n\\n    ', 'Today', ',', 'in', 'the', 'Greek', 'and', 'Russian', 'orthodox', 'churches', ',', 'Christmas', 'is', 'celebrated', '13', 'days', 'after', 'the', '25th', ',', 'which', 'is', 'also', 'referred', 'to', 'as', 'the', 'Epiphany', 'or', 'Three', 'Kings', 'Day', '.', 'This', 'is', 'the', 'day', 'it', 'is', 'believed', 'that', 'the', 'three', 'wise', 'men', 'finally', 'found', 'Jesus', 'in', 'the', 'manger', '.', '\\n\\n    ', 'In', 'the', 'Middle', 'Ages', ',', 'Christmas', 'celebrations', 'were', 'rowdy', 'and', 'raucous', '—', 'a', 'lot', 'like', 'today', '’s', 'Mardi', 'Gras', 'parties', '.', '\\n\\n    ', 'From', '1659', 'to', '1681', ',', 'the', 'celebration', 'of', 'Christmas', 'was', 'outlawed', 'in', 'Boston', ',', 'and', 'law', '-', 'breakers', 'were', 'fined', 'five', 'shillings', '.', '\\n\\n    ', 'Christmas', 'was', 'declared', 'a', 'federal', 'holiday', 'in', 'the', 'United', 'States', 'on', 'June', '26', ',', '1870', '.', '\\n\\n    ', 'The', 'first', 'eggnog', 'made', 'in', 'the', 'United', 'States', 'was', 'consumed', 'in', 'Captain', 'John', 'Smith', '’s', '1607', 'Jamestown', 'settlement', '.', '\\n\\n    ', 'Poinsettia', 'plants', 'are', 'named', 'after', 'Joel', 'R.', 'Poinsett', ',', 'an', 'American', 'minister', 'to', 'Mexico', ',', 'who', 'brought', 'the', 'red', '-', 'and', '-', 'green', 'plant', 'from', 'Mexico', 'to', 'America', 'in', '1828', '.', '\\n\\n    ', 'The', 'Salvation', 'Army', 'has', 'been', 'sending', 'Santa', 'Claus', '-', 'clad', 'donation', 'collectors', 'into', 'the', 'streets', 'since', 'the', '1890s', '.', '\\n\\n    ', 'Rudolph', ',', '“', 'the', 'most', 'famous', 'reindeer', 'of', 'all', ',', '”', 'was', 'the', 'product', 'of', 'Robert', 'L.', 'May', '’s', 'imagination', 'in', '1939', '.', 'The', 'copywriter', 'wrote', 'a', 'poem', 'about', 'the', 'reindeer', 'to', 'help', 'lure', 'customers', 'into', 'the', 'Montgomery', 'Ward', 'department', 'store', '.', 'Construction', 'workers', 'started', 'the', 'Rockefeller', 'Center', 'Christmas', 'tree', 'tradition', 'in', '1931', '.', '\\n    ']\n"
          ]
        }
      ]
    },
    {
      "cell_type": "code",
      "source": [
        "punctuation\n",
        "\n",
        "\n"
      ],
      "metadata": {
        "colab": {
          "base_uri": "https://localhost:8080/",
          "height": 36
        },
        "id": "810mGq67c7bD",
        "outputId": "a3ffb09b-df54-4b6a-a551-6708948bd057"
      },
      "execution_count": 34,
      "outputs": [
        {
          "output_type": "execute_result",
          "data": {
            "text/plain": [
              "'!\"#$%&\\'()*+,-./:;<=>?@[\\\\]^_`{|}~'"
            ],
            "application/vnd.google.colaboratory.intrinsic+json": {
              "type": "string"
            }
          },
          "metadata": {},
          "execution_count": 34
        }
      ]
    },
    {
      "cell_type": "code",
      "source": [
        "word_frequencies = {}\n",
        "for word in doc:\n",
        "    if word.text.lower() not in stopwords:\n",
        "        if word.text.lower() not in punctuation:\n",
        "            if word.text not in word_frequencies.keys():\n",
        "                word_frequencies[word.text] = 1\n",
        "            else:\n",
        "                word_frequencies[word.text] += 1 \n",
        "\n"
      ],
      "metadata": {
        "id": "4cTCaqV6ewRz"
      },
      "execution_count": 68,
      "outputs": []
    },
    {
      "cell_type": "code",
      "source": [
        "print (word_frequencies)\n"
      ],
      "metadata": {
        "colab": {
          "base_uri": "https://localhost:8080/"
        },
        "id": "_qjpwo8VfwrY",
        "outputId": "06a769e1-46be-4c6e-b3c9-6adc09551479"
      },
      "execution_count": 70,
      "outputs": [
        {
          "output_type": "stream",
          "name": "stdout",
          "text": [
            "{'\\n': 8, 'Christmas': 41, 'sacred': 2, 'religious': 3, 'holiday': 20, 'worldwide': 1, 'cultural': 2, 'commercial': 1, 'phenomenon': 1, 'millennia': 1, 'people': 5, 'world': 2, 'observing': 1, 'traditions': 2, 'practices': 1, 'secular': 1, 'nature': 1, 'Christians': 1, 'celebrate': 1, 'Day': 4, 'anniversary': 1, 'birth': 6, 'Jesus': 6, 'Nazareth': 1, 'spiritual': 1, 'leader': 1, 'teachings': 1, 'form': 1, 'basis': 1, 'religion': 2, 'Popular': 1, 'customs': 6, 'include': 1, 'exchanging': 1, 'gifts': 2, 'decorating': 2, 'trees': 4, 'attending': 1, 'church': 5, 'sharing': 1, 'meals': 1, 'family': 4, 'friends': 1, 'course': 1, 'waiting': 1, 'Santa': 2, 'Claus': 2, 'arrive': 1, 'December': 5, '25': 3, '–': 3, 'federal': 3, 'United': 6, 'States': 6, '1870': 3, 'Ancient': 1, 'Holiday': 1, '\\n\\n': 18, 'middle': 2, 'winter': 11, 'long': 1, 'time': 10, 'celebration': 8, 'Centuries': 1, 'arrival': 1, 'man': 1, 'called': 2, 'early': 6, 'Europeans': 1, 'celebrated': 12, 'light': 1, 'darkest': 1, 'days': 5, 'peoples': 1, 'rejoiced': 1, 'solstice': 5, 'worst': 1, 'look': 1, 'forward': 1, 'longer': 1, 'extended': 1, 'hours': 1, 'sunlight': 1, 'Scandinavia': 2, 'Norse': 2, 'Yule': 1, '21': 1, 'January': 1, 'recognition': 1, 'return': 2, 'sun': 2, 'fathers': 1, 'sons': 1, 'bring': 1, 'home': 2, 'large': 1, 'logs': 1, 'set': 1, 'fire': 2, 'feast': 2, 'log': 1, 'burned': 1, '12': 1, 'believed': 6, 'spark': 1, 'represented': 1, 'new': 1, 'pig': 1, 'calf': 1, 'born': 2, 'coming': 1, 'year': 8, 'ADVERTISEMENT': 1, 'end': 3, 'perfect': 2, 'areas': 1, 'Europe': 2, 'cattle': 1, 'slaughtered': 1, 'fed': 1, 'supply': 1, 'fresh': 1, 'meat': 1, 'addition': 2, 'wine': 1, 'beer': 1, 'finally': 3, 'fermented': 1, 'ready': 1, 'drinking': 1, 'Germany': 1, 'honored': 1, 'pagan': 3, 'god': 4, 'Oden': 2, 'mid': 1, 'Germans': 1, 'terrified': 1, 'nocturnal': 1, 'flights': 1, 'sky': 1, 'observe': 1, 'decide': 1, 'prosper': 1, 'perish': 1, 'presence': 1, 'chose': 3, 'stay': 1, 'inside': 1, 'Saturnalia': 4, 'Rome': 2, 'winters': 1, 'harsh': 1, 'far': 1, 'north': 1, '—': 3, 'honor': 1, 'Saturn': 1, 'agriculture': 1, 'Beginning': 1, 'week': 1, 'leading': 1, 'continuing': 1, 'month': 2, 'hedonistic': 1, 'food': 2, 'drink': 2, 'plentiful': 1, 'normal': 1, 'Roman': 1, 'social': 2, 'order': 2, 'turned': 1, 'upside': 1, 'slaves': 1, 'masters': 1, 'Peasants': 1, 'command': 1, 'city': 3, 'Business': 1, 'schools': 1, 'closed': 1, 'join': 1, 'fun': 1, 'Romans': 2, 'observed': 1, 'Juvenalia': 1, 'honoring': 1, 'children': 3, 'members': 3, 'upper': 3, 'classes': 4, 'birthday': 2, 'Mithra': 3, 'unconquerable': 1, 'infant': 1, 'rock': 1, 'day': 6, 'years': 3, 'Christianity': 2, 'Easter': 1, 'main': 1, 'fourth': 1, 'century': 6, 'officials': 1, 'decided': 1, 'institute': 1, 'Unfortunately': 1, 'Bible': 1, 'mention': 1, 'date': 2, 'fact': 3, 'Puritans': 1, 'later': 1, 'pointed': 1, 'deny': 1, 'legitimacy': 1, 'evidence': 1, 'suggests': 1, 'occurred': 2, 'spring': 1, 'shepherds': 1, 'herding': 1, 'Pope': 1, 'Julius': 1, 'commonly': 1, 'effort': 2, 'adopt': 1, 'absorb': 1, 'festival': 1, 'Feast': 1, 'Nativity': 1, 'custom': 1, 'spread': 2, 'Egypt': 1, '432': 1, 'England': 4, 'sixth': 1, 'eighth': 1, 'way': 3, 'Today': 2, 'Greek': 2, 'Russian': 2, 'orthodox': 3, 'churches': 3, '13': 2, '25th': 2, 'referred': 2, 'Epiphany': 2, 'Kings': 2, 'wise': 2, 'men': 2, 'found': 2, 'manger': 2, 'holding': 1, 'traditional': 1, 'festivals': 1, 'leaders': 1, 'increased': 1, 'chances': 1, 'popularly': 1, 'embraced': 1, 'gave': 1, 'ability': 1, 'dictate': 1, 'Middle': 2, 'Ages': 2, 'replaced': 1, 'believers': 1, 'attended': 2, 'raucously': 1, 'drunken': 1, 'carnival': 2, 'like': 2, 'atmosphere': 1, 'similar': 1, 'today': 2, 'Mardi': 2, 'Gras': 2, 'beggar': 1, 'student': 1, 'crowned': 1, '“': 6, 'lord': 1, 'misrule': 1, '”': 6, 'eager': 1, 'celebrants': 2, 'played': 1, 'subjects': 1, 'poor': 1, 'houses': 1, 'rich': 1, 'demand': 2, 'best': 2, 'owners': 1, 'failed': 1, 'comply': 1, 'visitors': 1, 'likely': 1, 'terrorize': 1, 'mischief': 1, 'repay': 1, 'real': 2, 'imagined': 1, 'debt': 1, 'society': 3, 'entertaining': 1, 'fortunate': 1, 'citizens': 1, 'Outlaw': 1, '17th': 1, 'wave': 1, 'reform': 1, 'changed': 2, 'Oliver': 1, 'Cromwell': 2, 'Puritan': 2, 'forces': 1, 'took': 1, '1645': 1, 'vowed': 1, 'rid': 1, 'decadence': 1, 'cancelled': 1, 'popular': 2, 'Charles': 2, 'II': 1, 'restored': 1, 'throne': 1, 'came': 2, 'pilgrims': 1, 'English': 4, 'separatists': 1, 'America': 4, '1620': 1, 'beliefs': 1, 'result': 1, '1659': 2, '1681': 2, 'actually': 2, 'outlawed': 2, 'Boston': 2, 'exhibiting': 1, 'spirit': 1, 'fined': 2, 'shillings': 2, 'contrast': 2, 'Jamestown': 2, 'settlement': 2, 'Captain': 2, 'John': 2, 'Smith': 2, 'reported': 1, 'enjoyed': 2, 'passed': 1, 'incident': 1, 'American': 4, 'Revolution': 1, 'fell': 1, 'favor': 1, 'including': 3, 'declared': 2, 'June': 2, '26': 2, 'Irving': 6, 'Reinvents': 1, '19th': 2, 'Americans': 5, 'began': 2, 'embrace': 2, 'invented': 3, 'raucous': 2, 'centered': 1, 'peace': 1, 'nostalgia': 1, '1800s': 2, 'peaked': 1, 'interest': 1, 'period': 1, 'class': 1, 'conflict': 1, 'turmoil': 1, 'unemployment': 1, 'high': 1, 'gang': 1, 'rioting': 1, 'disenchanted': 1, 'season': 2, '1828': 2, 'New': 1, 'York': 1, 'council': 1, 'instituted': 1, 'police': 1, 'force': 1, 'response': 1, 'riot': 1, 'catalyzed': 1, 'certain': 1, 'begin': 1, 'change': 1, '1819': 1, 'selling': 1, 'author': 2, 'Washington': 1, 'wrote': 2, 'Sketchbook': 1, 'Geoffrey': 1, 'Crayon': 1, 'gent': 1, 'series': 1, 'stories': 1, 'manor': 1, 'house': 1, 'sketches': 1, 'feature': 1, 'squire': 1, 'invited': 1, 'peasants': 1, 'problems': 1, 'faced': 1, 'groups': 2, 'mingled': 1, 'effortlessly': 1, 'mind': 1, 'peaceful': 1, 'warm': 1, 'hearted': 1, 'bringing': 1, 'lines': 1, 'wealth': 1, 'status': 1, 'fictitious': 1, 'ancient': 1, 'crowning': 1, 'Lord': 1, 'Misrule': 1, 'book': 1, 'based': 1, 'historians': 1, 'account': 1, 'tradition': 3, 'implying': 1, 'described': 1, 'true': 1, 'Carol': 2, 'Dickens': 1, 'created': 1, 'classic': 1, 'tale': 1, 'story': 1, 'message': 1, 'importance': 1, 'charity': 1, 'good': 1, 'humankind': 1, 'struck': 1, 'powerful': 1, 'chord': 1, 'showed': 1, 'Victorian': 1, 'benefits': 1, 'celebrating': 2, 'disciplined': 1, 'sensitive': 1, 'emotional': 1, 'needs': 2, 'provided': 1, 'families': 2, 'lavish': 1, 'attention': 1, 'appearing': 1, 'spoil': 1, 'old': 1, 'unearthed': 1, 'People': 1, 'looked': 1, 'recent': 1, 'immigrants': 1, 'Catholic': 1, 'Episcopalian': 1, '100': 1, 'built': 1, 'included': 1, 'pieces': 1, 'sending': 2, 'cards': 1, 'gift': 1, 'giving': 1, 'quickly': 1, 'bought': 1, 'idea': 1, 'centuries': 1, 'fill': 1, 'growing': 1, 'nation': 1, 'Facts': 1, '\\n\\n    ': 9, '30': 1, '35': 1, 'million': 1, 'sold': 2, '21,000': 1, 'tree': 2, 'growers': 1, 'usually': 1, 'grow': 1, '15': 1, 'celebrations': 1, 'rowdy': 1, 'lot': 1, 'parties': 1, 'law': 1, 'breakers': 1, 'eggnog': 1, 'consumed': 1, '1607': 1, 'Poinsettia': 1, 'plants': 1, 'named': 1, 'Joel': 1, 'R.': 1, 'Poinsett': 1, 'minister': 1, 'Mexico': 2, 'brought': 1, 'red': 1, 'green': 1, 'plant': 1, 'Salvation': 1, 'Army': 1, 'clad': 1, 'donation': 1, 'collectors': 1, 'streets': 1, '1890s': 1, 'Rudolph': 1, 'famous': 1, 'reindeer': 2, 'product': 1, 'Robert': 1, 'L.': 1, 'imagination': 1, '1939': 1, 'copywriter': 1, 'poem': 1, 'help': 1, 'lure': 1, 'customers': 1, 'Montgomery': 1, 'Ward': 1, 'department': 1, 'store': 1, 'Construction': 1, 'workers': 1, 'started': 1, 'Rockefeller': 1, 'Center': 1, '1931': 1, '\\n    ': 1}\n"
          ]
        }
      ]
    },
    {
      "cell_type": "code",
      "source": [
        "max_frequency = max(word_frequencies.values())\n",
        "\n"
      ],
      "metadata": {
        "id": "6QhuUxmrf8Ud"
      },
      "execution_count": 71,
      "outputs": []
    },
    {
      "cell_type": "code",
      "source": [
        "max_frequency"
      ],
      "metadata": {
        "colab": {
          "base_uri": "https://localhost:8080/"
        },
        "id": "hTd9PRhBfzAs",
        "outputId": "2d4b7986-e900-4633-bab4-317a7b8be548"
      },
      "execution_count": 72,
      "outputs": [
        {
          "output_type": "execute_result",
          "data": {
            "text/plain": [
              "41"
            ]
          },
          "metadata": {},
          "execution_count": 72
        }
      ]
    },
    {
      "cell_type": "code",
      "source": [
        "for word in word_frequencies.keys():\n",
        "    word_frequencies[word] = word_frequencies[word]/max_frequency"
      ],
      "metadata": {
        "id": "rlrc879agO3b"
      },
      "execution_count": 74,
      "outputs": []
    },
    {
      "cell_type": "code",
      "source": [
        "print (word_frequencies)"
      ],
      "metadata": {
        "colab": {
          "base_uri": "https://localhost:8080/"
        },
        "id": "7FoN1rergW6l",
        "outputId": "f4885c3a-7c67-40d1-e73c-9c2d00707576"
      },
      "execution_count": 75,
      "outputs": [
        {
          "output_type": "stream",
          "name": "stdout",
          "text": [
            "{'\\n': 0.1951219512195122, 'Christmas': 1.0, 'sacred': 0.04878048780487805, 'religious': 0.07317073170731707, 'holiday': 0.4878048780487805, 'worldwide': 0.024390243902439025, 'cultural': 0.04878048780487805, 'commercial': 0.024390243902439025, 'phenomenon': 0.024390243902439025, 'millennia': 0.024390243902439025, 'people': 0.12195121951219512, 'world': 0.04878048780487805, 'observing': 0.024390243902439025, 'traditions': 0.04878048780487805, 'practices': 0.024390243902439025, 'secular': 0.024390243902439025, 'nature': 0.024390243902439025, 'Christians': 0.024390243902439025, 'celebrate': 0.024390243902439025, 'Day': 0.0975609756097561, 'anniversary': 0.024390243902439025, 'birth': 0.14634146341463414, 'Jesus': 0.14634146341463414, 'Nazareth': 0.024390243902439025, 'spiritual': 0.024390243902439025, 'leader': 0.024390243902439025, 'teachings': 0.024390243902439025, 'form': 0.024390243902439025, 'basis': 0.024390243902439025, 'religion': 0.04878048780487805, 'Popular': 0.024390243902439025, 'customs': 0.14634146341463414, 'include': 0.024390243902439025, 'exchanging': 0.024390243902439025, 'gifts': 0.04878048780487805, 'decorating': 0.04878048780487805, 'trees': 0.0975609756097561, 'attending': 0.024390243902439025, 'church': 0.12195121951219512, 'sharing': 0.024390243902439025, 'meals': 0.024390243902439025, 'family': 0.0975609756097561, 'friends': 0.024390243902439025, 'course': 0.024390243902439025, 'waiting': 0.024390243902439025, 'Santa': 0.04878048780487805, 'Claus': 0.04878048780487805, 'arrive': 0.024390243902439025, 'December': 0.12195121951219512, '25': 0.07317073170731707, '–': 0.07317073170731707, 'federal': 0.07317073170731707, 'United': 0.14634146341463414, 'States': 0.14634146341463414, '1870': 0.07317073170731707, 'Ancient': 0.024390243902439025, 'Holiday': 0.024390243902439025, '\\n\\n': 0.43902439024390244, 'middle': 0.04878048780487805, 'winter': 0.2682926829268293, 'long': 0.024390243902439025, 'time': 0.24390243902439024, 'celebration': 0.1951219512195122, 'Centuries': 0.024390243902439025, 'arrival': 0.024390243902439025, 'man': 0.024390243902439025, 'called': 0.04878048780487805, 'early': 0.14634146341463414, 'Europeans': 0.024390243902439025, 'celebrated': 0.2926829268292683, 'light': 0.024390243902439025, 'darkest': 0.024390243902439025, 'days': 0.12195121951219512, 'peoples': 0.024390243902439025, 'rejoiced': 0.024390243902439025, 'solstice': 0.12195121951219512, 'worst': 0.024390243902439025, 'look': 0.024390243902439025, 'forward': 0.024390243902439025, 'longer': 0.024390243902439025, 'extended': 0.024390243902439025, 'hours': 0.024390243902439025, 'sunlight': 0.024390243902439025, 'Scandinavia': 0.04878048780487805, 'Norse': 0.04878048780487805, 'Yule': 0.024390243902439025, '21': 0.024390243902439025, 'January': 0.024390243902439025, 'recognition': 0.024390243902439025, 'return': 0.04878048780487805, 'sun': 0.04878048780487805, 'fathers': 0.024390243902439025, 'sons': 0.024390243902439025, 'bring': 0.024390243902439025, 'home': 0.04878048780487805, 'large': 0.024390243902439025, 'logs': 0.024390243902439025, 'set': 0.024390243902439025, 'fire': 0.04878048780487805, 'feast': 0.04878048780487805, 'log': 0.024390243902439025, 'burned': 0.024390243902439025, '12': 0.024390243902439025, 'believed': 0.14634146341463414, 'spark': 0.024390243902439025, 'represented': 0.024390243902439025, 'new': 0.024390243902439025, 'pig': 0.024390243902439025, 'calf': 0.024390243902439025, 'born': 0.04878048780487805, 'coming': 0.024390243902439025, 'year': 0.1951219512195122, 'ADVERTISEMENT': 0.024390243902439025, 'end': 0.07317073170731707, 'perfect': 0.04878048780487805, 'areas': 0.024390243902439025, 'Europe': 0.04878048780487805, 'cattle': 0.024390243902439025, 'slaughtered': 0.024390243902439025, 'fed': 0.024390243902439025, 'supply': 0.024390243902439025, 'fresh': 0.024390243902439025, 'meat': 0.024390243902439025, 'addition': 0.04878048780487805, 'wine': 0.024390243902439025, 'beer': 0.024390243902439025, 'finally': 0.07317073170731707, 'fermented': 0.024390243902439025, 'ready': 0.024390243902439025, 'drinking': 0.024390243902439025, 'Germany': 0.024390243902439025, 'honored': 0.024390243902439025, 'pagan': 0.07317073170731707, 'god': 0.0975609756097561, 'Oden': 0.04878048780487805, 'mid': 0.024390243902439025, 'Germans': 0.024390243902439025, 'terrified': 0.024390243902439025, 'nocturnal': 0.024390243902439025, 'flights': 0.024390243902439025, 'sky': 0.024390243902439025, 'observe': 0.024390243902439025, 'decide': 0.024390243902439025, 'prosper': 0.024390243902439025, 'perish': 0.024390243902439025, 'presence': 0.024390243902439025, 'chose': 0.07317073170731707, 'stay': 0.024390243902439025, 'inside': 0.024390243902439025, 'Saturnalia': 0.0975609756097561, 'Rome': 0.04878048780487805, 'winters': 0.024390243902439025, 'harsh': 0.024390243902439025, 'far': 0.024390243902439025, 'north': 0.024390243902439025, '—': 0.07317073170731707, 'honor': 0.024390243902439025, 'Saturn': 0.024390243902439025, 'agriculture': 0.024390243902439025, 'Beginning': 0.024390243902439025, 'week': 0.024390243902439025, 'leading': 0.024390243902439025, 'continuing': 0.024390243902439025, 'month': 0.04878048780487805, 'hedonistic': 0.024390243902439025, 'food': 0.04878048780487805, 'drink': 0.04878048780487805, 'plentiful': 0.024390243902439025, 'normal': 0.024390243902439025, 'Roman': 0.024390243902439025, 'social': 0.04878048780487805, 'order': 0.04878048780487805, 'turned': 0.024390243902439025, 'upside': 0.024390243902439025, 'slaves': 0.024390243902439025, 'masters': 0.024390243902439025, 'Peasants': 0.024390243902439025, 'command': 0.024390243902439025, 'city': 0.07317073170731707, 'Business': 0.024390243902439025, 'schools': 0.024390243902439025, 'closed': 0.024390243902439025, 'join': 0.024390243902439025, 'fun': 0.024390243902439025, 'Romans': 0.04878048780487805, 'observed': 0.024390243902439025, 'Juvenalia': 0.024390243902439025, 'honoring': 0.024390243902439025, 'children': 0.07317073170731707, 'members': 0.07317073170731707, 'upper': 0.07317073170731707, 'classes': 0.0975609756097561, 'birthday': 0.04878048780487805, 'Mithra': 0.07317073170731707, 'unconquerable': 0.024390243902439025, 'infant': 0.024390243902439025, 'rock': 0.024390243902439025, 'day': 0.14634146341463414, 'years': 0.07317073170731707, 'Christianity': 0.04878048780487805, 'Easter': 0.024390243902439025, 'main': 0.024390243902439025, 'fourth': 0.024390243902439025, 'century': 0.14634146341463414, 'officials': 0.024390243902439025, 'decided': 0.024390243902439025, 'institute': 0.024390243902439025, 'Unfortunately': 0.024390243902439025, 'Bible': 0.024390243902439025, 'mention': 0.024390243902439025, 'date': 0.04878048780487805, 'fact': 0.07317073170731707, 'Puritans': 0.024390243902439025, 'later': 0.024390243902439025, 'pointed': 0.024390243902439025, 'deny': 0.024390243902439025, 'legitimacy': 0.024390243902439025, 'evidence': 0.024390243902439025, 'suggests': 0.024390243902439025, 'occurred': 0.04878048780487805, 'spring': 0.024390243902439025, 'shepherds': 0.024390243902439025, 'herding': 0.024390243902439025, 'Pope': 0.024390243902439025, 'Julius': 0.024390243902439025, 'commonly': 0.024390243902439025, 'effort': 0.04878048780487805, 'adopt': 0.024390243902439025, 'absorb': 0.024390243902439025, 'festival': 0.024390243902439025, 'Feast': 0.024390243902439025, 'Nativity': 0.024390243902439025, 'custom': 0.024390243902439025, 'spread': 0.04878048780487805, 'Egypt': 0.024390243902439025, '432': 0.024390243902439025, 'England': 0.0975609756097561, 'sixth': 0.024390243902439025, 'eighth': 0.024390243902439025, 'way': 0.07317073170731707, 'Today': 0.04878048780487805, 'Greek': 0.04878048780487805, 'Russian': 0.04878048780487805, 'orthodox': 0.07317073170731707, 'churches': 0.07317073170731707, '13': 0.04878048780487805, '25th': 0.04878048780487805, 'referred': 0.04878048780487805, 'Epiphany': 0.04878048780487805, 'Kings': 0.04878048780487805, 'wise': 0.04878048780487805, 'men': 0.04878048780487805, 'found': 0.04878048780487805, 'manger': 0.04878048780487805, 'holding': 0.024390243902439025, 'traditional': 0.024390243902439025, 'festivals': 0.024390243902439025, 'leaders': 0.024390243902439025, 'increased': 0.024390243902439025, 'chances': 0.024390243902439025, 'popularly': 0.024390243902439025, 'embraced': 0.024390243902439025, 'gave': 0.024390243902439025, 'ability': 0.024390243902439025, 'dictate': 0.024390243902439025, 'Middle': 0.04878048780487805, 'Ages': 0.04878048780487805, 'replaced': 0.024390243902439025, 'believers': 0.024390243902439025, 'attended': 0.04878048780487805, 'raucously': 0.024390243902439025, 'drunken': 0.024390243902439025, 'carnival': 0.04878048780487805, 'like': 0.04878048780487805, 'atmosphere': 0.024390243902439025, 'similar': 0.024390243902439025, 'today': 0.04878048780487805, 'Mardi': 0.04878048780487805, 'Gras': 0.04878048780487805, 'beggar': 0.024390243902439025, 'student': 0.024390243902439025, 'crowned': 0.024390243902439025, '“': 0.14634146341463414, 'lord': 0.024390243902439025, 'misrule': 0.024390243902439025, '”': 0.14634146341463414, 'eager': 0.024390243902439025, 'celebrants': 0.04878048780487805, 'played': 0.024390243902439025, 'subjects': 0.024390243902439025, 'poor': 0.024390243902439025, 'houses': 0.024390243902439025, 'rich': 0.024390243902439025, 'demand': 0.04878048780487805, 'best': 0.04878048780487805, 'owners': 0.024390243902439025, 'failed': 0.024390243902439025, 'comply': 0.024390243902439025, 'visitors': 0.024390243902439025, 'likely': 0.024390243902439025, 'terrorize': 0.024390243902439025, 'mischief': 0.024390243902439025, 'repay': 0.024390243902439025, 'real': 0.04878048780487805, 'imagined': 0.024390243902439025, 'debt': 0.024390243902439025, 'society': 0.07317073170731707, 'entertaining': 0.024390243902439025, 'fortunate': 0.024390243902439025, 'citizens': 0.024390243902439025, 'Outlaw': 0.024390243902439025, '17th': 0.024390243902439025, 'wave': 0.024390243902439025, 'reform': 0.024390243902439025, 'changed': 0.04878048780487805, 'Oliver': 0.024390243902439025, 'Cromwell': 0.04878048780487805, 'Puritan': 0.04878048780487805, 'forces': 0.024390243902439025, 'took': 0.024390243902439025, '1645': 0.024390243902439025, 'vowed': 0.024390243902439025, 'rid': 0.024390243902439025, 'decadence': 0.024390243902439025, 'cancelled': 0.024390243902439025, 'popular': 0.04878048780487805, 'Charles': 0.04878048780487805, 'II': 0.024390243902439025, 'restored': 0.024390243902439025, 'throne': 0.024390243902439025, 'came': 0.04878048780487805, 'pilgrims': 0.024390243902439025, 'English': 0.0975609756097561, 'separatists': 0.024390243902439025, 'America': 0.0975609756097561, '1620': 0.024390243902439025, 'beliefs': 0.024390243902439025, 'result': 0.024390243902439025, '1659': 0.04878048780487805, '1681': 0.04878048780487805, 'actually': 0.04878048780487805, 'outlawed': 0.04878048780487805, 'Boston': 0.04878048780487805, 'exhibiting': 0.024390243902439025, 'spirit': 0.024390243902439025, 'fined': 0.04878048780487805, 'shillings': 0.04878048780487805, 'contrast': 0.04878048780487805, 'Jamestown': 0.04878048780487805, 'settlement': 0.04878048780487805, 'Captain': 0.04878048780487805, 'John': 0.04878048780487805, 'Smith': 0.04878048780487805, 'reported': 0.024390243902439025, 'enjoyed': 0.04878048780487805, 'passed': 0.024390243902439025, 'incident': 0.024390243902439025, 'American': 0.0975609756097561, 'Revolution': 0.024390243902439025, 'fell': 0.024390243902439025, 'favor': 0.024390243902439025, 'including': 0.07317073170731707, 'declared': 0.04878048780487805, 'June': 0.04878048780487805, '26': 0.04878048780487805, 'Irving': 0.14634146341463414, 'Reinvents': 0.024390243902439025, '19th': 0.04878048780487805, 'Americans': 0.12195121951219512, 'began': 0.04878048780487805, 'embrace': 0.04878048780487805, 'invented': 0.07317073170731707, 'raucous': 0.04878048780487805, 'centered': 0.024390243902439025, 'peace': 0.024390243902439025, 'nostalgia': 0.024390243902439025, '1800s': 0.04878048780487805, 'peaked': 0.024390243902439025, 'interest': 0.024390243902439025, 'period': 0.024390243902439025, 'class': 0.024390243902439025, 'conflict': 0.024390243902439025, 'turmoil': 0.024390243902439025, 'unemployment': 0.024390243902439025, 'high': 0.024390243902439025, 'gang': 0.024390243902439025, 'rioting': 0.024390243902439025, 'disenchanted': 0.024390243902439025, 'season': 0.04878048780487805, '1828': 0.04878048780487805, 'New': 0.024390243902439025, 'York': 0.024390243902439025, 'council': 0.024390243902439025, 'instituted': 0.024390243902439025, 'police': 0.024390243902439025, 'force': 0.024390243902439025, 'response': 0.024390243902439025, 'riot': 0.024390243902439025, 'catalyzed': 0.024390243902439025, 'certain': 0.024390243902439025, 'begin': 0.024390243902439025, 'change': 0.024390243902439025, '1819': 0.024390243902439025, 'selling': 0.024390243902439025, 'author': 0.04878048780487805, 'Washington': 0.024390243902439025, 'wrote': 0.04878048780487805, 'Sketchbook': 0.024390243902439025, 'Geoffrey': 0.024390243902439025, 'Crayon': 0.024390243902439025, 'gent': 0.024390243902439025, 'series': 0.024390243902439025, 'stories': 0.024390243902439025, 'manor': 0.024390243902439025, 'house': 0.024390243902439025, 'sketches': 0.024390243902439025, 'feature': 0.024390243902439025, 'squire': 0.024390243902439025, 'invited': 0.024390243902439025, 'peasants': 0.024390243902439025, 'problems': 0.024390243902439025, 'faced': 0.024390243902439025, 'groups': 0.04878048780487805, 'mingled': 0.024390243902439025, 'effortlessly': 0.024390243902439025, 'mind': 0.024390243902439025, 'peaceful': 0.024390243902439025, 'warm': 0.024390243902439025, 'hearted': 0.024390243902439025, 'bringing': 0.024390243902439025, 'lines': 0.024390243902439025, 'wealth': 0.024390243902439025, 'status': 0.024390243902439025, 'fictitious': 0.024390243902439025, 'ancient': 0.024390243902439025, 'crowning': 0.024390243902439025, 'Lord': 0.024390243902439025, 'Misrule': 0.024390243902439025, 'book': 0.024390243902439025, 'based': 0.024390243902439025, 'historians': 0.024390243902439025, 'account': 0.024390243902439025, 'tradition': 0.07317073170731707, 'implying': 0.024390243902439025, 'described': 0.024390243902439025, 'true': 0.024390243902439025, 'Carol': 0.04878048780487805, 'Dickens': 0.024390243902439025, 'created': 0.024390243902439025, 'classic': 0.024390243902439025, 'tale': 0.024390243902439025, 'story': 0.024390243902439025, 'message': 0.024390243902439025, 'importance': 0.024390243902439025, 'charity': 0.024390243902439025, 'good': 0.024390243902439025, 'humankind': 0.024390243902439025, 'struck': 0.024390243902439025, 'powerful': 0.024390243902439025, 'chord': 0.024390243902439025, 'showed': 0.024390243902439025, 'Victorian': 0.024390243902439025, 'benefits': 0.024390243902439025, 'celebrating': 0.04878048780487805, 'disciplined': 0.024390243902439025, 'sensitive': 0.024390243902439025, 'emotional': 0.024390243902439025, 'needs': 0.04878048780487805, 'provided': 0.024390243902439025, 'families': 0.04878048780487805, 'lavish': 0.024390243902439025, 'attention': 0.024390243902439025, 'appearing': 0.024390243902439025, 'spoil': 0.024390243902439025, 'old': 0.024390243902439025, 'unearthed': 0.024390243902439025, 'People': 0.024390243902439025, 'looked': 0.024390243902439025, 'recent': 0.024390243902439025, 'immigrants': 0.024390243902439025, 'Catholic': 0.024390243902439025, 'Episcopalian': 0.024390243902439025, '100': 0.024390243902439025, 'built': 0.024390243902439025, 'included': 0.024390243902439025, 'pieces': 0.024390243902439025, 'sending': 0.04878048780487805, 'cards': 0.024390243902439025, 'gift': 0.024390243902439025, 'giving': 0.024390243902439025, 'quickly': 0.024390243902439025, 'bought': 0.024390243902439025, 'idea': 0.024390243902439025, 'centuries': 0.024390243902439025, 'fill': 0.024390243902439025, 'growing': 0.024390243902439025, 'nation': 0.024390243902439025, 'Facts': 0.024390243902439025, '\\n\\n    ': 0.21951219512195122, '30': 0.024390243902439025, '35': 0.024390243902439025, 'million': 0.024390243902439025, 'sold': 0.04878048780487805, '21,000': 0.024390243902439025, 'tree': 0.04878048780487805, 'growers': 0.024390243902439025, 'usually': 0.024390243902439025, 'grow': 0.024390243902439025, '15': 0.024390243902439025, 'celebrations': 0.024390243902439025, 'rowdy': 0.024390243902439025, 'lot': 0.024390243902439025, 'parties': 0.024390243902439025, 'law': 0.024390243902439025, 'breakers': 0.024390243902439025, 'eggnog': 0.024390243902439025, 'consumed': 0.024390243902439025, '1607': 0.024390243902439025, 'Poinsettia': 0.024390243902439025, 'plants': 0.024390243902439025, 'named': 0.024390243902439025, 'Joel': 0.024390243902439025, 'R.': 0.024390243902439025, 'Poinsett': 0.024390243902439025, 'minister': 0.024390243902439025, 'Mexico': 0.04878048780487805, 'brought': 0.024390243902439025, 'red': 0.024390243902439025, 'green': 0.024390243902439025, 'plant': 0.024390243902439025, 'Salvation': 0.024390243902439025, 'Army': 0.024390243902439025, 'clad': 0.024390243902439025, 'donation': 0.024390243902439025, 'collectors': 0.024390243902439025, 'streets': 0.024390243902439025, '1890s': 0.024390243902439025, 'Rudolph': 0.024390243902439025, 'famous': 0.024390243902439025, 'reindeer': 0.04878048780487805, 'product': 0.024390243902439025, 'Robert': 0.024390243902439025, 'L.': 0.024390243902439025, 'imagination': 0.024390243902439025, '1939': 0.024390243902439025, 'copywriter': 0.024390243902439025, 'poem': 0.024390243902439025, 'help': 0.024390243902439025, 'lure': 0.024390243902439025, 'customers': 0.024390243902439025, 'Montgomery': 0.024390243902439025, 'Ward': 0.024390243902439025, 'department': 0.024390243902439025, 'store': 0.024390243902439025, 'Construction': 0.024390243902439025, 'workers': 0.024390243902439025, 'started': 0.024390243902439025, 'Rockefeller': 0.024390243902439025, 'Center': 0.024390243902439025, '1931': 0.024390243902439025, '\\n    ': 0.024390243902439025}\n"
          ]
        }
      ]
    },
    {
      "cell_type": "code",
      "source": [
        "sentence_tokens = [sent for sent in doc.sents]\n",
        "print(sentence_tokens)\n"
      ],
      "metadata": {
        "colab": {
          "base_uri": "https://localhost:8080/"
        },
        "id": "7Vb1IRTBgZAN",
        "outputId": "891ddbce-f7f2-498e-bc54-503aa8a82463"
      },
      "execution_count": 76,
      "outputs": [
        {
          "output_type": "stream",
          "name": "stdout",
          "text": [
            "[\n",
            "Christmas is both a sacred religious holiday and a worldwide cultural and commercial phenomenon., For two millennia, people around the world have been observing it with traditions and practices that are both religious and secular in nature., Christians celebrate Christmas Day as the anniversary of the birth of Jesus of Nazareth, a spiritual leader whose teachings form the basis of their religion., Popular customs include exchanging gifts, decorating Christmas trees, attending church, sharing meals with family and friends and, of course, waiting for Santa Claus to arrive., December 25–Christmas Day–has been a federal holiday in the United States since 1870.\n",
            ", An Ancient Holiday\n",
            "\n",
            ", The middle of winter has long been a time of celebration around the world., Centuries before the arrival of the man called Jesus, early Europeans celebrated light and birth in the darkest days of winter., Many peoples rejoiced during the winter solstice, when the worst of the winter was behind them and they could look forward to longer days and extended hours of sunlight.\n",
            "\n",
            ", In Scandinavia, the Norse celebrated Yule from December 21, the winter solstice, through January., In recognition of the return of the sun, fathers and sons would bring home large logs, which they would set on fire., The people would feast until the log burned out, which could take as many as 12 days., The Norse believed that each spark from the fire represented a new pig or calf that would be born during the coming year.\n",
            ", ADVERTISEMENT\n",
            "\n",
            ", The end of December was a perfect time for celebration in most areas of Europe., At that time of year, most cattle were slaughtered so they would not have to be fed during the winter., For many, it was the only time of year when they had a supply of fresh meat., In addition, most wine and beer made during the year was finally fermented and ready for drinking.\n",
            "\n",
            ", In Germany, people honored the pagan god Oden during the mid-winter holiday., Germans were terrified of Oden, as they believed he made nocturnal flights through the sky to observe his people, and then decide who would prosper or perish., Because of his presence, many people chose to stay inside.\n",
            ", Saturnalia\n",
            "\n",
            "In Rome, where winters were not as harsh as those in the far north, Saturnalia—a holiday in honor of Saturn, the god of agriculture—was celebrated., Beginning in the week leading up to the winter solstice and continuing for a full month, Saturnalia was a hedonistic time, when food and drink were plentiful and the normal Roman social order was turned upside down., For a month, slaves would become masters., Peasants were in command of the city., Business and schools were closed so that everyone could join in the fun.\n",
            "\n",
            ", Also around the time of the winter solstice, Romans observed Juvenalia, a feast honoring the children of Rome., In addition, members of the upper classes often celebrated the birthday of Mithra, the god of the unconquerable sun, on December 25., It was believed that Mithra, an infant god, was born of a rock., For some Romans, Mithra’s birthday was the most sacred day of the year., \n",
            "\n",
            ", In the early years of Christianity, Easter was the main holiday; the birth of Jesus was not celebrated., In the fourth century, church officials decided to institute the birth of Jesus as a holiday., Unfortunately, the Bible does not mention date for his birth (a fact Puritans later pointed out in order to deny the legitimacy of the celebration)., Although some evidence suggests that his birth may have occurred in the spring (why would shepherds be herding in the middle of winter?), Pope Julius I chose December 25., It is commonly believed that the church chose this date in an effort to adopt and absorb the traditions of the pagan Saturnalia festival., First called the Feast of the Nativity, the custom spread to Egypt by 432 and to England by the end of the sixth century., By the end of the eighth century, the celebration of Christmas had spread all the way to Scandinavia., Today, in the Greek and Russian orthodox churches, Christmas is celebrated 13 days after the 25th, which is also referred to as the Epiphany or Three Kings Day., This is the day it is believed that the three wise men finally found Jesus in the manger.\n",
            "\n",
            ", By holding Christmas at the same time as traditional winter solstice festivals, church leaders increased the chances that Christmas would be popularly embraced, but gave up the ability to dictate how it was celebrated., By the Middle Ages, Christianity had, for the most part, replaced pagan religion., On Christmas, believers attended church, then celebrated raucously in a drunken, carnival-like atmosphere similar to today’s Mardi Gras., Each year, a beggar or student would be crowned the “lord of misrule” and eager celebrants played the part of his subjects., The poor would go to the houses of the rich and demand their best food and drink., If owners failed to comply, their visitors would most likely terrorize them with mischief., Christmas became the time of year when the upper classes could repay their real or imagined “debt” to society by entertaining less fortunate citizens.\n",
            ", An Outlaw Christmas\n",
            "\n",
            "In the early 17th century, a wave of religious reform changed the way Christmas was celebrated in Europe., When Oliver Cromwell and his Puritan forces took over England in 1645, they vowed to rid England of decadence and, as part of their effort, cancelled Christmas., By popular demand, Charles II was restored to the throne and, with him, came the return of the popular holiday.\n",
            "\n",
            ", The pilgrims, English separatists that came to America in 1620, were even more orthodox in their Puritan beliefs than Cromwell., As a result, Christmas was not a holiday in early America., From 1659 to 1681, the celebration of Christmas was actually outlawed in Boston., Anyone exhibiting the Christmas spirit was fined five shillings., By contrast, in the Jamestown settlement, Captain John Smith reported that Christmas was enjoyed by all and passed without incident.\n",
            "\n",
            ", After the American Revolution, English customs fell out of favor, including Christmas., In fact, Christmas wasn’t declared a federal holiday until June 26, 1870.\n",
            ", Irving Reinvents Christmas\n",
            "\n",
            "It wasn’t until the 19th century that Americans began to embrace Christmas., Americans re-invented Christmas, and changed it from a raucous carnival holiday into a family-centered day of peace and nostalgia., But what about the 1800s peaked American interest in the holiday?\n",
            "\n",
            ", The early 19th century was a period of class conflict and turmoil., During this time, unemployment was high and gang rioting by the disenchanted classes often occurred during the Christmas season., In 1828, the New York city council instituted the city’s first police force in response to a Christmas riot., This catalyzed certain members of the upper classes to begin to change the way Christmas was celebrated in America.\n",
            "\n",
            ", In 1819, best-selling author Washington Irving wrote The Sketchbook of Geoffrey Crayon, gent., a series of stories about the celebration of Christmas in an English manor house., The sketches feature a squire who invited the peasants into his home for the holiday., In contrast to the problems faced in American society, the two groups mingled effortlessly., In Irving’s mind, Christmas should be a peaceful, warm-hearted holiday bringing groups together across lines of wealth or social status., Irving’s fictitious celebrants enjoyed “ancient customs,” including the crowning of a Lord of Misrule., Irving’s book, however, was not based on any holiday celebration he had attended – in fact, many historians say that Irving’s account actually “invented” tradition by implying that it described the true customs of the season.\n",
            ", A Christmas Carol\n",
            "\n",
            "Also around this time, English author Charles Dickens created the classic holiday tale, A Christmas Carol., The story’s message-the importance of charity and good will towards all humankind-struck a powerful chord in the United States and England and showed members of Victorian society the benefits of celebrating the holiday.\n",
            "\n",
            ", The family was also becoming less disciplined and more sensitive to the emotional needs of children during the early 1800s., Christmas provided families with a day when they could lavish attention-and gifts-on their children without appearing to “spoil” them.\n",
            "\n",
            ", As Americans began to embrace Christmas as a perfect family holiday, old customs were unearthed., People looked toward recent immigrants and Catholic and Episcopalian churches to see how the day should be celebrated., In the next 100 years, Americans built a Christmas tradition all their own that included pieces of many other customs, including decorating trees, sending holiday cards and gift-giving.\n",
            "\n",
            ", Although most families quickly bought into the idea that they were celebrating Christmas how it had been done for centuries, Americans had really re-invented a holiday to fill the cultural needs of a growing nation.\n",
            ", Christmas Facts\n",
            "\n",
            "    Each year, 30-35 million real Christmas trees are sold in the United States alone., There are 21,000 Christmas tree growers in the United States, and trees usually grow for about 15 years before they are sold.\n",
            "\n",
            "    , Today, in the Greek and Russian orthodox churches, Christmas is celebrated 13 days after the 25th, which is also referred to as the Epiphany or Three Kings Day., This is the day it is believed that the three wise men finally found Jesus in the manger.\n",
            "\n",
            "    , In the Middle Ages, Christmas celebrations were rowdy and raucous—a lot like today’s Mardi Gras parties., \n",
            "\n",
            "    , From 1659 to 1681, the celebration of Christmas was outlawed in Boston, and law-breakers were fined five shillings.\n",
            "\n",
            "    , Christmas was declared a federal holiday in the United States on June 26, 1870.\n",
            "\n",
            "    , The first eggnog made in the United States was consumed in Captain John Smith’s 1607 Jamestown settlement.\n",
            "\n",
            "    , Poinsettia plants are named after Joel R. Poinsett, an American minister to Mexico, who brought the red-and-green plant from Mexico to America in 1828.\n",
            "\n",
            "    , The Salvation Army has been sending Santa Claus-clad donation collectors into the streets since the 1890s.\n",
            "\n",
            "    , Rudolph, “the most famous reindeer of all,” was the product of Robert L. May’s imagination in 1939., The copywriter wrote a poem about the reindeer to help lure customers into the Montgomery Ward department store., Construction workers started the Rockefeller Center Christmas tree tradition in 1931., \n",
            "    ]\n"
          ]
        }
      ]
    },
    {
      "cell_type": "code",
      "source": [
        "sentence_scores = {}\n",
        "for sent in sentence_tokens:\n",
        "    for word in sent:\n",
        "        if word.text.lower() in word_frequencies.keys():\n",
        "            if sent not in sentence_scores.keys():\n",
        "                sentence_scores[sent] = word_frequencies[word.text.lower()]\n",
        "            else:\n",
        "                sentence_scores[sent] += word_frequencies[word.text.lower()]\n"
      ],
      "metadata": {
        "id": "TGSXpAMWgZMe"
      },
      "execution_count": 78,
      "outputs": []
    },
    {
      "cell_type": "code",
      "source": [
        " sentence_scores"
      ],
      "metadata": {
        "colab": {
          "base_uri": "https://localhost:8080/"
        },
        "id": "cCjoi5jMhWVf",
        "outputId": "f048eecf-cfa0-4ddc-f980-d8a6fd62f04d"
      },
      "execution_count": 79,
      "outputs": [
        {
          "output_type": "execute_result",
          "data": {
            "text/plain": [
              "{\n",
              " Christmas is both a sacred religious holiday and a worldwide cultural and commercial phenomenon.: 0.9268292682926831,\n",
              " For two millennia, people around the world have been observing it with traditions and practices that are both religious and secular in nature.: 0.4146341463414635,\n",
              " Christians celebrate Christmas Day as the anniversary of the birth of Jesus of Nazareth, a spiritual leader whose teachings form the basis of their religion.: 0.5121951219512196,\n",
              " Popular customs include exchanging gifts, decorating Christmas trees, attending church, sharing meals with family and friends and, of course, waiting for Santa Claus to arrive.: 0.8292682926829269,\n",
              " December 25–Christmas Day–has been a federal holiday in the United States since 1870.: 1.1951219512195121,\n",
              " An Ancient Holiday\n",
              " : 0.9512195121951219,\n",
              " The middle of winter has long been a time of celebration around the world.: 0.8292682926829269,\n",
              " Centuries before the arrival of the man called Jesus, early Europeans celebrated light and birth in the darkest days of winter.: 1.1463414634146343,\n",
              " Many peoples rejoiced during the winter solstice, when the worst of the winter was behind them and they could look forward to longer days and extended hours of sunlight.\n",
              " : 1.4390243902439024,\n",
              " In Scandinavia, the Norse celebrated Yule from December 21, the winter solstice, through January.: 0.7073170731707318,\n",
              " In recognition of the return of the sun, fathers and sons would bring home large logs, which they would set on fire.: 0.3658536585365854,\n",
              " The people would feast until the log burned out, which could take as many as 12 days.: 0.36585365853658536,\n",
              " The Norse believed that each spark from the fire represented a new pig or calf that would be born during the coming year.: 0.7804878048780488,\n",
              " ADVERTISEMENT\n",
              " : 0.43902439024390244,\n",
              " The end of December was a perfect time for celebration in most areas of Europe.: 0.5853658536585367,\n",
              " At that time of year, most cattle were slaughtered so they would not have to be fed during the winter.: 0.7804878048780488,\n",
              " For many, it was the only time of year when they had a supply of fresh meat.: 0.5121951219512195,\n",
              " In addition, most wine and beer made during the year was finally fermented and ready for drinking.\n",
              " : 0.878048780487805,\n",
              " In Germany, people honored the pagan god Oden during the mid-winter holiday.: 1.0975609756097562,\n",
              " Germans were terrified of Oden, as they believed he made nocturnal flights through the sky to observe his people, and then decide who would prosper or perish.: 0.4634146341463415,\n",
              " Because of his presence, many people chose to stay inside.: 0.46341463414634143,\n",
              " Saturnalia\n",
              " \n",
              " In Rome, where winters were not as harsh as those in the far north, Saturnalia—a holiday in honor of Saturn, the god of agriculture—was celebrated.: 1.609756097560976,\n",
              " Beginning in the week leading up to the winter solstice and continuing for a full month, Saturnalia was a hedonistic time, when food and drink were plentiful and the normal Roman social order was turned upside down.: 1.0731707317073174,\n",
              " For a month, slaves would become masters.: 0.0975609756097561,\n",
              " Peasants were in command of the city.: 0.12195121951219512,\n",
              " Business and schools were closed so that everyone could join in the fun.\n",
              " : 0.5365853658536586,\n",
              " Also around the time of the winter solstice, Romans observed Juvenalia, a feast honoring the children of Rome.: 0.8048780487804879,\n",
              " In addition, members of the upper classes often celebrated the birthday of Mithra, the god of the unconquerable sun, on December 25.: 0.878048780487805,\n",
              " It was believed that Mithra, an infant god, was born of a rock.: 0.34146341463414637,\n",
              " For some Romans, Mithra’s birthday was the most sacred day of the year.: 0.43902439024390244,\n",
              " \n",
              " : 0.43902439024390244,\n",
              " In the early years of Christianity, Easter was the main holiday; the birth of Jesus was not celebrated.: 1.170731707317073,\n",
              " In the fourth century, church officials decided to institute the birth of Jesus as a holiday.: 1.0,\n",
              " Unfortunately, the Bible does not mention date for his birth (a fact Puritans later pointed out in order to deny the legitimacy of the celebration).: 0.6341463414634148,\n",
              " Although some evidence suggests that his birth may have occurred in the spring (why would shepherds be herding in the middle of winter?), Pope Julius I chose December 25.: 0.7804878048780488,\n",
              " It is commonly believed that the church chose this date in an effort to adopt and absorb the traditions of the pagan Saturnalia festival.: 0.6585365853658537,\n",
              " First called the Feast of the Nativity, the custom spread to Egypt by 432 and to England by the end of the sixth century.: 0.4390243902439024,\n",
              " By the end of the eighth century, the celebration of Christmas had spread all the way to Scandinavia.: 0.5609756097560975,\n",
              " Today, in the Greek and Russian orthodox churches, Christmas is celebrated 13 days after the 25th, which is also referred to as the Epiphany or Three Kings Day.: 0.902439024390244,\n",
              " This is the day it is believed that the three wise men finally found Jesus in the manger.\n",
              " : 1.0,\n",
              " By holding Christmas at the same time as traditional winter solstice festivals, church leaders increased the chances that Christmas would be popularly embraced, but gave up the ability to dictate how it was celebrated.: 1.3170731707317076,\n",
              " By the Middle Ages, Christianity had, for the most part, replaced pagan religion.: 0.1951219512195122,\n",
              " On Christmas, believers attended church, then celebrated raucously in a drunken, carnival-like atmosphere similar to today’s Mardi Gras.: 0.7317073170731709,\n",
              " Each year, a beggar or student would be crowned the “lord of misrule” and eager celebrants played the part of his subjects.: 0.7317073170731709,\n",
              " The poor would go to the houses of the rich and demand their best food and drink.: 0.2682926829268293,\n",
              " If owners failed to comply, their visitors would most likely terrorize them with mischief.: 0.17073170731707316,\n",
              " Christmas became the time of year when the upper classes could repay their real or imagined “debt” to society by entertaining less fortunate citizens.: 1.3658536585365855,\n",
              " An Outlaw Christmas\n",
              " \n",
              " In the early 17th century, a wave of religious reform changed the way Christmas was celebrated in Europe.: 1.2926829268292683,\n",
              " When Oliver Cromwell and his Puritan forces took over England in 1645, they vowed to rid England of decadence and, as part of their effort, cancelled Christmas.: 0.21951219512195122,\n",
              " By popular demand, Charles II was restored to the throne and, with him, came the return of the popular holiday.\n",
              " : 1.2195121951219512,\n",
              " The pilgrims, English separatists that came to America in 1620, were even more orthodox in their Puritan beliefs than Cromwell.: 0.21951219512195122,\n",
              " As a result, Christmas was not a holiday in early America.: 0.6585365853658537,\n",
              " From 1659 to 1681, the celebration of Christmas was actually outlawed in Boston.: 0.3902439024390244,\n",
              " Anyone exhibiting the Christmas spirit was fined five shillings.: 0.14634146341463417,\n",
              " By contrast, in the Jamestown settlement, Captain John Smith reported that Christmas was enjoyed by all and passed without incident.\n",
              " : 0.6585365853658536,\n",
              " After the American Revolution, English customs fell out of favor, including Christmas.: 0.26829268292682923,\n",
              " In fact, Christmas wasn’t declared a federal holiday until June 26, 1870.: 1.0,\n",
              " Irving Reinvents Christmas\n",
              " \n",
              " It wasn’t until the 19th century that Americans began to embrace Christmas.: 0.7317073170731708,\n",
              " Americans re-invented Christmas, and changed it from a raucous carnival holiday into a family-centered day of peace and nostalgia.: 1.024390243902439,\n",
              " But what about the 1800s peaked American interest in the holiday?\n",
              " : 1.024390243902439,\n",
              " The early 19th century was a period of class conflict and turmoil.: 0.4390243902439025,\n",
              " During this time, unemployment was high and gang rioting by the disenchanted classes often occurred during the Christmas season.: 0.5609756097560977,\n",
              " In 1828, the New York city council instituted the city’s first police force in response to a Christmas riot.: 0.36585365853658547,\n",
              " This catalyzed certain members of the upper classes to begin to change the way Christmas was celebrated in America.\n",
              " : 1.1463414634146343,\n",
              " In 1819, best-selling author Washington Irving wrote The Sketchbook of Geoffrey Crayon, gent., a series of stories about the celebration of Christmas in an English manor house.: 0.5121951219512195,\n",
              " The sketches feature a squire who invited the peasants into his home for the holiday.: 0.6585365853658536,\n",
              " In contrast to the problems faced in American society, the two groups mingled effortlessly.: 0.26829268292682923,\n",
              " In Irving’s mind, Christmas should be a peaceful, warm-hearted holiday bringing groups together across lines of wealth or social status.: 0.7804878048780489,\n",
              " Irving’s fictitious celebrants enjoyed “ancient customs,” including the crowning of a Lord of Misrule.: 0.7317073170731708,\n",
              " Irving’s book, however, was not based on any holiday celebration he had attended – in fact, many historians say that Irving’s account actually “invented” tradition by implying that it described the true customs of the season.: 1.9268292682926829,\n",
              " A Christmas Carol\n",
              " \n",
              " Also around this time, English author Charles Dickens created the classic holiday tale, A Christmas Carol.: 1.2926829268292683,\n",
              " The story’s message-the importance of charity and good will towards all humankind-struck a powerful chord in the United States and England and showed members of Victorian society the benefits of celebrating the holiday.\n",
              " : 1.3902439024390243,\n",
              " The family was also becoming less disciplined and more sensitive to the emotional needs of children during the early 1800s.: 0.4878048780487804,\n",
              " Christmas provided families with a day when they could lavish attention-and gifts-on their children without appearing to “spoil” them.\n",
              " : 1.1707317073170733,\n",
              " As Americans began to embrace Christmas as a perfect family holiday, old customs were unearthed.: 0.926829268292683,\n",
              " People looked toward recent immigrants and Catholic and Episcopalian churches to see how the day should be celebrated.: 0.7073170731707317,\n",
              " In the next 100 years, Americans built a Christmas tradition all their own that included pieces of many other customs, including decorating trees, sending holiday cards and gift-giving.\n",
              " : 1.6585365853658538,\n",
              " Although most families quickly bought into the idea that they were celebrating Christmas how it had been done for centuries, Americans had really re-invented a holiday to fill the cultural needs of a growing nation.: 1.1219512195121952,\n",
              " Christmas Facts\n",
              " \n",
              "     Each year, 30-35 million real Christmas trees are sold in the United States alone.: 0.6829268292682928,\n",
              " There are 21,000 Christmas tree growers in the United States, and trees usually grow for about 15 years before they are sold.\n",
              " \n",
              "     : 0.6097560975609756,\n",
              " Today, in the Greek and Russian orthodox churches, Christmas is celebrated 13 days after the 25th, which is also referred to as the Epiphany or Three Kings Day.: 0.902439024390244,\n",
              " This is the day it is believed that the three wise men finally found Jesus in the manger.\n",
              " \n",
              "     : 0.7804878048780488,\n",
              " In the Middle Ages, Christmas celebrations were rowdy and raucous—a lot like today’s Mardi Gras parties.: 0.3658536585365854,\n",
              " \n",
              " \n",
              "     : 0.21951219512195122,\n",
              " From 1659 to 1681, the celebration of Christmas was outlawed in Boston, and law-breakers were fined five shillings.\n",
              " \n",
              "     : 0.7073170731707318,\n",
              " Christmas was declared a federal holiday in the United States on June 26, 1870.\n",
              " \n",
              "     : 0.9512195121951219,\n",
              " The first eggnog made in the United States was consumed in Captain John Smith’s 1607 Jamestown settlement.\n",
              " \n",
              "     : 0.34146341463414637,\n",
              " Poinsettia plants are named after Joel R. Poinsett, an American minister to Mexico, who brought the red-and-green plant from Mexico to America in 1828.\n",
              " \n",
              "     : 0.4390243902439024,\n",
              " The Salvation Army has been sending Santa Claus-clad donation collectors into the streets since the 1890s.\n",
              " \n",
              "     : 0.3902439024390244,\n",
              " Rudolph, “the most famous reindeer of all,” was the product of Robert L. May’s imagination in 1939.: 0.4390243902439025,\n",
              " The copywriter wrote a poem about the reindeer to help lure customers into the Montgomery Ward department store.: 0.2682926829268293,\n",
              " Construction workers started the Rockefeller Center Christmas tree tradition in 1931.: 0.19512195121951217,\n",
              " \n",
              "     : 0.024390243902439025}"
            ]
          },
          "metadata": {},
          "execution_count": 79
        }
      ]
    },
    {
      "cell_type": "code",
      "source": [
        "from heapq import nlargest\n",
        "\n"
      ],
      "metadata": {
        "id": "HdRTXjUDhqfi"
      },
      "execution_count": 86,
      "outputs": []
    },
    {
      "cell_type": "code",
      "source": [
        "select_length = int(len(sentence_tokens)*0.3)\n",
        "select_length\n"
      ],
      "metadata": {
        "colab": {
          "base_uri": "https://localhost:8080/"
        },
        "id": "3LVVfE2ZhuQO",
        "outputId": "1f0ce30b-5f55-42fd-9115-429a2d892207"
      },
      "execution_count": 87,
      "outputs": [
        {
          "output_type": "execute_result",
          "data": {
            "text/plain": [
              "27"
            ]
          },
          "metadata": {},
          "execution_count": 87
        }
      ]
    },
    {
      "cell_type": "code",
      "source": [
        "summary = nlargest(select_length, sentence_scores, key = sentence_scores.get)\n"
      ],
      "metadata": {
        "id": "mwFBU_B4inT5"
      },
      "execution_count": 88,
      "outputs": []
    },
    {
      "cell_type": "code",
      "source": [
        "summary"
      ],
      "metadata": {
        "colab": {
          "base_uri": "https://localhost:8080/"
        },
        "id": "AFkLHzYgjBDB",
        "outputId": "4a7d594c-6378-4536-b545-feebffddda10"
      },
      "execution_count": 89,
      "outputs": [
        {
          "output_type": "execute_result",
          "data": {
            "text/plain": [
              "[Irving’s book, however, was not based on any holiday celebration he had attended – in fact, many historians say that Irving’s account actually “invented” tradition by implying that it described the true customs of the season.,\n",
              " In the next 100 years, Americans built a Christmas tradition all their own that included pieces of many other customs, including decorating trees, sending holiday cards and gift-giving.\n",
              " ,\n",
              " Saturnalia\n",
              " \n",
              " In Rome, where winters were not as harsh as those in the far north, Saturnalia—a holiday in honor of Saturn, the god of agriculture—was celebrated.,\n",
              " Many peoples rejoiced during the winter solstice, when the worst of the winter was behind them and they could look forward to longer days and extended hours of sunlight.\n",
              " ,\n",
              " The story’s message-the importance of charity and good will towards all humankind-struck a powerful chord in the United States and England and showed members of Victorian society the benefits of celebrating the holiday.\n",
              " ,\n",
              " Christmas became the time of year when the upper classes could repay their real or imagined “debt” to society by entertaining less fortunate citizens.,\n",
              " By holding Christmas at the same time as traditional winter solstice festivals, church leaders increased the chances that Christmas would be popularly embraced, but gave up the ability to dictate how it was celebrated.,\n",
              " An Outlaw Christmas\n",
              " \n",
              " In the early 17th century, a wave of religious reform changed the way Christmas was celebrated in Europe.,\n",
              " A Christmas Carol\n",
              " \n",
              " Also around this time, English author Charles Dickens created the classic holiday tale, A Christmas Carol.,\n",
              " By popular demand, Charles II was restored to the throne and, with him, came the return of the popular holiday.\n",
              " ,\n",
              " December 25–Christmas Day–has been a federal holiday in the United States since 1870.,\n",
              " Christmas provided families with a day when they could lavish attention-and gifts-on their children without appearing to “spoil” them.\n",
              " ,\n",
              " In the early years of Christianity, Easter was the main holiday; the birth of Jesus was not celebrated.,\n",
              " Centuries before the arrival of the man called Jesus, early Europeans celebrated light and birth in the darkest days of winter.,\n",
              " This catalyzed certain members of the upper classes to begin to change the way Christmas was celebrated in America.\n",
              " ,\n",
              " Although most families quickly bought into the idea that they were celebrating Christmas how it had been done for centuries, Americans had really re-invented a holiday to fill the cultural needs of a growing nation.,\n",
              " In Germany, people honored the pagan god Oden during the mid-winter holiday.,\n",
              " Beginning in the week leading up to the winter solstice and continuing for a full month, Saturnalia was a hedonistic time, when food and drink were plentiful and the normal Roman social order was turned upside down.,\n",
              " Americans re-invented Christmas, and changed it from a raucous carnival holiday into a family-centered day of peace and nostalgia.,\n",
              " But what about the 1800s peaked American interest in the holiday?\n",
              " ,\n",
              " In the fourth century, church officials decided to institute the birth of Jesus as a holiday.,\n",
              " This is the day it is believed that the three wise men finally found Jesus in the manger.\n",
              " ,\n",
              " In fact, Christmas wasn’t declared a federal holiday until June 26, 1870.,\n",
              " An Ancient Holiday\n",
              " ,\n",
              " Christmas was declared a federal holiday in the United States on June 26, 1870.\n",
              " \n",
              "     ,\n",
              " \n",
              " Christmas is both a sacred religious holiday and a worldwide cultural and commercial phenomenon.,\n",
              " As Americans began to embrace Christmas as a perfect family holiday, old customs were unearthed.]"
            ]
          },
          "metadata": {},
          "execution_count": 89
        }
      ]
    },
    {
      "cell_type": "code",
      "source": [
        "final_summary = [word.text for word in summary]"
      ],
      "metadata": {
        "id": "VEJQ1Rb7jD_i"
      },
      "execution_count": 90,
      "outputs": []
    },
    {
      "cell_type": "code",
      "source": [
        "summary = ' '.join(final_summary)"
      ],
      "metadata": {
        "id": "erW6P6PwjVMt"
      },
      "execution_count": 91,
      "outputs": []
    },
    {
      "cell_type": "code",
      "source": [
        "print(summary)"
      ],
      "metadata": {
        "colab": {
          "base_uri": "https://localhost:8080/"
        },
        "id": "6qPKlY5yjS0n",
        "outputId": "313cc4c1-e862-44ba-9f85-c042821caeb1"
      },
      "execution_count": 93,
      "outputs": [
        {
          "output_type": "stream",
          "name": "stdout",
          "text": [
            "Irving’s book, however, was not based on any holiday celebration he had attended – in fact, many historians say that Irving’s account actually “invented” tradition by implying that it described the true customs of the season.\n",
            " In the next 100 years, Americans built a Christmas tradition all their own that included pieces of many other customs, including decorating trees, sending holiday cards and gift-giving.\n",
            "\n",
            " Saturnalia\n",
            "\n",
            "In Rome, where winters were not as harsh as those in the far north, Saturnalia—a holiday in honor of Saturn, the god of agriculture—was celebrated. Many peoples rejoiced during the winter solstice, when the worst of the winter was behind them and they could look forward to longer days and extended hours of sunlight.\n",
            "\n",
            " The story’s message-the importance of charity and good will towards all humankind-struck a powerful chord in the United States and England and showed members of Victorian society the benefits of celebrating the holiday.\n",
            "\n",
            " Christmas became the time of year when the upper classes could repay their real or imagined “debt” to society by entertaining less fortunate citizens.\n",
            " By holding Christmas at the same time as traditional winter solstice festivals, church leaders increased the chances that Christmas would be popularly embraced, but gave up the ability to dictate how it was celebrated. An Outlaw Christmas\n",
            "\n",
            "In the early 17th century, a wave of religious reform changed the way Christmas was celebrated in Europe. A Christmas Carol\n",
            "\n",
            "Also around this time, English author Charles Dickens created the classic holiday tale, A Christmas Carol. By popular demand, Charles II was restored to the throne and, with him, came the return of the popular holiday.\n",
            "\n",
            " December 25–Christmas Day–has been a federal holiday in the United States since 1870.\n",
            " Christmas provided families with a day when they could lavish attention-and gifts-on their children without appearing to “spoil” them.\n",
            "\n",
            " In the early years of Christianity, Easter was the main holiday; the birth of Jesus was not celebrated. Centuries before the arrival of the man called Jesus, early Europeans celebrated light and birth in the darkest days of winter. This catalyzed certain members of the upper classes to begin to change the way Christmas was celebrated in America.\n",
            "\n",
            " Although most families quickly bought into the idea that they were celebrating Christmas how it had been done for centuries, Americans had really re-invented a holiday to fill the cultural needs of a growing nation.\n",
            " In Germany, people honored the pagan god Oden during the mid-winter holiday. Beginning in the week leading up to the winter solstice and continuing for a full month, Saturnalia was a hedonistic time, when food and drink were plentiful and the normal Roman social order was turned upside down. Americans re-invented Christmas, and changed it from a raucous carnival holiday into a family-centered day of peace and nostalgia. But what about the 1800s peaked American interest in the holiday?\n",
            "\n",
            " In the fourth century, church officials decided to institute the birth of Jesus as a holiday. This is the day it is believed that the three wise men finally found Jesus in the manger.\n",
            "\n",
            " In fact, Christmas wasn’t declared a federal holiday until June 26, 1870.\n",
            " An Ancient Holiday\n",
            "\n",
            " Christmas was declared a federal holiday in the United States on June 26, 1870.\n",
            "\n",
            "     \n",
            "Christmas is both a sacred religious holiday and a worldwide cultural and commercial phenomenon. As Americans began to embrace Christmas as a perfect family holiday, old customs were unearthed.\n"
          ]
        }
      ]
    },
    {
      "cell_type": "code",
      "source": [
        "len(text)"
      ],
      "metadata": {
        "colab": {
          "base_uri": "https://localhost:8080/"
        },
        "id": "_V7WVpR3jsKT",
        "outputId": "daafaa49-30c8-450a-864f-227cf6ebdbba"
      },
      "execution_count": 94,
      "outputs": [
        {
          "output_type": "execute_result",
          "data": {
            "text/plain": [
              "10368"
            ]
          },
          "metadata": {},
          "execution_count": 94
        }
      ]
    },
    {
      "cell_type": "code",
      "source": [
        "len(summary )"
      ],
      "metadata": {
        "colab": {
          "base_uri": "https://localhost:8080/"
        },
        "id": "N3oBxfRAjuk9",
        "outputId": "ddd0767d-7c81-4c41-ec5d-7757b6f946b8"
      },
      "execution_count": 95,
      "outputs": [
        {
          "output_type": "execute_result",
          "data": {
            "text/plain": [
              "3552"
            ]
          },
          "metadata": {},
          "execution_count": 95
        }
      ]
    }
  ]
}